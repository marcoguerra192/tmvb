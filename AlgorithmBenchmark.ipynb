{
 "cells": [
  {
   "cell_type": "markdown",
   "id": "85398a89-b89c-422d-a1a7-e433347fd171",
   "metadata": {},
   "source": [
    "# Benchmark algorithm for isomorphism of OA's"
   ]
  },
  {
   "cell_type": "markdown",
   "id": "a5c5b94e-aec5-447c-87c9-de7d54d17516",
   "metadata": {},
   "source": [
    "#### Scheme\n",
    "\n",
    "As in \"Classifier\":\n",
    " - Generate one OA to test against\n",
    " -  generate a dataset of OA's, balanced 50% iso and 50% non-iso\n",
    " - measure the performance of the algorithm\n",
    " - Test against the computational complexity of other (exact) approaches\n",
    "    "
   ]
  },
  {
   "cell_type": "markdown",
   "id": "4ed08b4c-66ec-445f-9053-3dae0ccab351",
   "metadata": {},
   "source": [
    "### Remarks:\n",
    "As per the theory, it only makes sense to use **switch** isomorphisms, so at most there are $2^d$ isomorphs of each array. It makes no sense to use \"sampleChildren\" larger than this"
   ]
  },
  {
   "cell_type": "markdown",
   "id": "9055998a-9361-4014-b353-6594bff0d86d",
   "metadata": {},
   "source": [
    "### Complexity Comparison\n",
    "\n",
    "We are now sure that the normal form of on OA gives a unique representative of its iso class. It is computed by the LMC test (lexicographically minimum by columns), described in Schoen, Eendebak, Nguyen (2009). Its complexity is not straightforward, but we could estimate that for the positive case (array is minimal) it is of the same order as $d! 2^2$. It is implemented in the `oapackage` library as `reduceLMCform( arr )`.\n",
    "\n",
    "Our test has a tunable complexity, so in case the exact complexity is impractical, we could still provide as answer with a certain amount of confidence. We can showcase it by describing the accuracy curve as a function of complexity (% of correct guesses as a function of how many loop iterations). Notice we do at most $2^d$ iterations (number of switch isomorphisms) (in fact we could remove one as we do not use the identity). \n",
    "\n",
    "One goal would be to identify whether the exact complexity is greater or smaller than $2^d$. The other one would be to idenify if, for example, the 50-50 threshold (which is equivalent to chance for a binary test) sits at a sufficiently small fraction of the complexity of the exact test. "
   ]
  },
  {
   "cell_type": "markdown",
   "id": "245554fe-0ce0-4992-9ada-e47500d6fd61",
   "metadata": {},
   "source": [
    "Imports"
   ]
  },
  {
   "cell_type": "code",
   "execution_count": 1,
   "id": "f52bc89d-020a-43ee-bac4-64393c59ef8c",
   "metadata": {},
   "outputs": [],
   "source": [
    "import os\n",
    "import os.path\n",
    "\n",
    "import numpy as np\n",
    "from statistics.pmf import PMF\n",
    "from statistics.OA import OA, genOA, genFiltrations\n",
    "from statistics.OAIso import allIsomorphisms, allSwitchIsomorphisms\n",
    "from persistence.pers import compute_perm_classes, persistencePairs, WasDistances, BotDistances, Was1DDistances, DistancesDistr\n",
    "from persistence.distances import wasserstein2DNoDiag, wasserstein1D\n",
    "\n",
    "#These are not necessary\n",
    "#from geometry.polytope import Polytope, computePolytope\n",
    "#from geometry.polytope import conditionsOA3, conditionsOA4, conditionsOA5\n",
    "\n",
    "import random\n",
    "\n",
    "from math import floor, ceil\n",
    "import matplotlib.pyplot as plt\n",
    "import pandas as pd"
   ]
  },
  {
   "cell_type": "markdown",
   "id": "f824d92c-bf25-4213-a00a-58d6075abd95",
   "metadata": {},
   "source": [
    "### Parameters"
   ]
  },
  {
   "cell_type": "code",
   "execution_count": 2,
   "id": "28ba8030-245d-450e-87a1-48e85fca1ab5",
   "metadata": {},
   "outputs": [],
   "source": [
    "N = 24 # number of runs\n",
    "d = 5 # number of factors\n",
    "\n",
    "# How many isomorphs to sample for data generation\n",
    "sampleChildren = 500\n",
    "sampleChildren = 32\n",
    "\n",
    "# How many isomorphs to sample for the test\n",
    "loop = 500\n"
   ]
  },
  {
   "cell_type": "markdown",
   "id": "5d71d3ba-8e95-4da5-9725-d46e80c4c359",
   "metadata": {},
   "source": [
    "### Generation of the data"
   ]
  },
  {
   "cell_type": "code",
   "execution_count": 208,
   "id": "8272f43a-1c08-4941-8688-4c2753aa9e6a",
   "metadata": {},
   "outputs": [],
   "source": [
    "def genDatasetOA(N,d, size, options=None, Perms=None):\n",
    "    '''Function to generate a dataset of OA on which to run the classification algorithm\n",
    "    \n",
    "    INPUT:\n",
    "    - N: (int) number of runs\n",
    "    - d: (int) dimension\n",
    "    - size: (int) number of arrays to generate \n",
    "    - Perms (numpy matrix) a precomputed matrix of isomorphisms with 2**d rows and as many columns as there are iso\n",
    "    \n",
    "    - options: (dict) The following keys are specified:\n",
    "    -  Isomorphs_Type: (string) if 'switch' use only switches to generate isomorphs of the arrays given by genOA.\n",
    "    If 'all' use both switch and permutations. If anything else, raise an error. Default to all. IF \n",
    "    - Ratio: (float) number of isomorphs to number of non-iso in the data, x to 1. Default is 1, that is 50-50\n",
    "    - WhichClass: (string) if 'random', shuffle randomly the iso-classes of OA's returned by oapackage. The test array \n",
    "    will be drawn by the first class after the shuffle. If (int) an int from 1 to the number of classes, pick that as\n",
    "    the test array class\n",
    "    - Original: (bool) if True, use the exact array returned by oapackage as the representative of the chosen class.\n",
    "    If False, use some array in the class but not necessarily that one. Default True.\n",
    "    - ShuffleOutput: wheter to shuffle the output lists. Defaults to False.\n",
    "    - Verbose: If True, print info. Defaults to True\n",
    "\n",
    "    OUTPUT:\n",
    "    - a single OA to test against (numpy array of the pmf)\n",
    "    - a list of arrays (as numpy arrays representing the pmf's)\n",
    "    - a list of labels (True if isomorphic, False if not)\n",
    "    '''\n",
    "    \n",
    "    # process parameters in options\n",
    "    \n",
    "    if options is None:\n",
    "        options = {}\n",
    "        \n",
    "    # check no wrong keys\n",
    "    if not set(options.keys()).issubset( set(['Isomorphs_Type','Ratio','WhichClass','Original','ShuffleOutput','Verbose'])):\n",
    "        \n",
    "        raise ValueError('There are wrong keys in the options dict')\n",
    "   \n",
    "    if Perms is not None:\n",
    "        #if not isinstance(Perms, type(np.array)):\n",
    "            #raise ValueError('Perms must be a numpy array')\n",
    "            \n",
    "        if Perms.shape[0] != 2**d:\n",
    "            raise ValueError('Wrong dimensions in Perms')\n",
    "    try:\n",
    "        iso_type = options['Isomorphs_Type']\n",
    "            \n",
    "    except KeyError:\n",
    "        iso_type = 'all'\n",
    "        \n",
    "    if iso_type == 'switch':\n",
    "        if Perms is None:\n",
    "            perms = allSwitchIsomorphisms(d)\n",
    "        else:\n",
    "            perms = Perms\n",
    "    elif iso_type == 'all':\n",
    "        if Perms is None:\n",
    "            perms = allIsomorphisms(d)\n",
    "        else:\n",
    "            perms = Perms\n",
    "    else:\n",
    "        raise ValueError('Undefined isomorphs type')\n",
    "        \n",
    "    try:\n",
    "        ratio = options['Ratio']\n",
    "        \n",
    "        if isinstance(ratio, int):\n",
    "            ratio = float(ratio)\n",
    "        elif isinstance(ratio, float):\n",
    "            pass\n",
    "        else: # check it is a numeric value\n",
    "            raise ValueError('Ratio must be a float value')\n",
    "        \n",
    "    except KeyError:\n",
    "        ratio = 1.0\n",
    "        \n",
    "    try:\n",
    "        which_class = options['WhichClass']\n",
    "    \n",
    "    except KeyError:\n",
    "        which_class = 'random'\n",
    "        \n",
    "    if type(which_class) == int:\n",
    "        pass\n",
    "    elif which_class == 'random':\n",
    "        pass\n",
    "    else:\n",
    "        raise ValueError('Invalid WhichClass (choice of test array)')\n",
    "        \n",
    "    try:\n",
    "        original = options['Original']\n",
    "        if type(original) is not bool:\n",
    "            raise ValueError('Original has to be boolean')\n",
    "        \n",
    "    except KeyError:\n",
    "        original = True\n",
    "        \n",
    "    try:\n",
    "        shuffleOutput = options['ShuffleOutput']\n",
    "        \n",
    "        if not isinstance(shuffleOutput, bool):\n",
    "            raise ValueError('ShuffleOutput must be a bool')\n",
    "            \n",
    "    except KeyError:\n",
    "        shuffleOutput = False\n",
    "        \n",
    "    try:\n",
    "        verbose = options['Verbose']\n",
    "        if not isinstance(verbose, bool):\n",
    "            raise ValueError('Verbose must be a bool')\n",
    "            \n",
    "    except KeyError:\n",
    "        verbose = True\n",
    "           \n",
    "        \n",
    "    # The set of isomorphisms is generated, now on to generate OA's\n",
    "    \n",
    "    oas , _ , _ = genOA(N,d)\n",
    "    \n",
    "    NOas = len(oas)\n",
    "    \n",
    "    # shuffle or select test class\n",
    "    if which_class == 'random':\n",
    "        random.shuffle(oas)\n",
    "        \n",
    "    else: # it's an int\n",
    "        # swap the first with this value\n",
    "        tmp = oas[0]\n",
    "        oas[0] = oas[which_class]\n",
    "        oas[which_class] = tmp\n",
    "        del tmp\n",
    "        \n",
    "    N_Iso = (ratio/(ratio+1))*size # number of iso\n",
    "    N_NIso = (1/(ratio+1))*size # number of non-iso\n",
    "    \n",
    "    if N_Iso - floor(N_Iso) <= .5:\n",
    "        \n",
    "        N_Iso = floor(N_Iso)\n",
    "        N_NIso = ceil(N_NIso)\n",
    "    else:\n",
    "\n",
    "        N_Iso = ceil(N_Iso)\n",
    "        N_NIso = floor(N_NIso)\n",
    "        \n",
    "    assert N_Iso + N_NIso == size\n",
    "    \n",
    "    # check that the size of the isomorphism classes is enough \n",
    "    # to extract N_Iso arrays without repeating\n",
    "    NofIso = perms.shape[1]\n",
    "    \n",
    "    if NofIso - 1 < N_Iso: # -1 because one is the identity\n",
    "        \n",
    "        print('WARNING! There are not enough isomorphisms for the required size')\n",
    "        print('Size ', size, ' with ratio ', ratio, ' means ', N_Iso, ' arrays from the test class')\n",
    "        print(f\"However, with {'only switch' if iso_type=='switch' else iso_type} isomorphisms, only {NofIso} exist.\")\n",
    "        print('There will be duplicates in the iso class')\n",
    "        \n",
    "    # generate test array\n",
    "    \n",
    "    test_array = oas[0].to_pmf(normalize=True).values\n",
    "    \n",
    "    if not original:\n",
    "        \n",
    "        randomPerm = np.random.choice( NofIso )\n",
    "        test_array = test_array[ perms[: , randomPerm]]\n",
    "        \n",
    "    # generate dataset of arrays\n",
    "    \n",
    "    Isomorphs = []\n",
    "    NIsomorphs = []\n",
    "        \n",
    "    # SAMPLE random isomorphs\n",
    "    try:\n",
    "        samplePerms = np.random.choice( NofIso , (N_Iso,) , replace=False)\n",
    "        \n",
    "    except ValueError: # means replace is false but N_Iso > NofIso (so a fortiori > NofIso - 1)\n",
    "        samplePerms = np.random.choice( NofIso , (N_Iso,) , replace=True)\n",
    "        \n",
    "    pmf = oas[0].to_pmf(normalize=True).values # starting pmf\n",
    "    for i in samplePerms: # for each of the N_Iso chosen isomorphic arrays\n",
    "        \n",
    "        Isomorphs.append( pmf[ perms[: , i]] ) # apply the isomorphism and append this new array to the dataset\n",
    "     \n",
    "    # now sample the non-isomorphs: try to be uniform among non-iso classes\n",
    "    NPerClass = floor(N_NIso / (NOas - 1))\n",
    "    \n",
    "    # plus the rest needed\n",
    "    NLeftover = N_NIso - NPerClass * (NOas - 1)\n",
    "    \n",
    "    # sample quasi-uniformly\n",
    "    for j in range(1, NOas):\n",
    "        pmf = oas[j].to_pmf(normalize=True).values # starting pmf\n",
    "        \n",
    "        # sample isomorphisms\n",
    "        try:\n",
    "            samplePerms = np.random.choice( NofIso , (NPerClass,) , replace=False)\n",
    "\n",
    "        except ValueError: # means replace is false but NPerClass > NofIso\n",
    "            samplePerms = np.random.choice( NofIso , (NPerClass,) , replace=True)\n",
    "        \n",
    "        # apply isomorphisms\n",
    "        for i in samplePerms: # for each of the N_Iso chosen isomorphic arrays\n",
    "        \n",
    "            NIsomorphs.append( pmf[ perms[: , i]] ) # apply the isomorphism and append this new array to the dataset\n",
    "     \n",
    "      # if there is leftover, add it\n",
    "    for j in range(NLeftover):\n",
    "        \n",
    "        # choose a class\n",
    "        randomClass = np.random.choice( NOas - 1 ) + 1 # shift by one (we use only the non-iso)\n",
    "        \n",
    "        pmf = oas[randomClass].to_pmf(normalize=True).values # starting pmf\n",
    "        randomPerm = np.random.choice( NofIso ) # pick a random isomorphism\n",
    "        NIsomorphs.append( pmf[ perms[: , randomPerm]] ) # apply it\n",
    "    \n",
    "    # output\n",
    "    \n",
    "    data = Isomorphs + NIsomorphs\n",
    "    \n",
    "    labels = [True]*len(Isomorphs) + [False]*len(NIsomorphs)\n",
    "    \n",
    "    if shuffleOutput:\n",
    "        \n",
    "        output = list(zip(data, labels))\n",
    "        random.shuffle(output)\n",
    "        \n",
    "        data = [x[0] for x in output]\n",
    "        labels = [x[1] for x in output]\n",
    "    \n",
    "    #Summary\n",
    "    if verbose:\n",
    "        print('\\n**')\n",
    "        print(f\"Data generated with size {size}. First there are {N_Iso} isomorphs and then {N_NIso} non-isomorphs.\")\n",
    "        print(f\"Using {'only switch' if iso_type=='switch' else iso_type} isomorphisms, which are {NofIso}\")\n",
    "    \n",
    "    return test_array, data, labels"
   ]
  },
  {
   "cell_type": "code",
   "execution_count": 4,
   "id": "f8b393d9-550b-4dd5-9af2-6b08616b4d3e",
   "metadata": {},
   "outputs": [],
   "source": [
    "options = {'WhichClass':'random', 'Ratio':1, 'Isomorphs_Type':'all', 'ShuffleOutput':True}"
   ]
  },
  {
   "cell_type": "code",
   "execution_count": 5,
   "id": "152fdc26-1ed5-40a8-86f4-bf605bd3ec33",
   "metadata": {},
   "outputs": [
    {
     "name": "stdout",
     "output_type": "stream",
     "text": [
      "\n",
      "**\n",
      "Data generated with size 500. First there are 250 isomorphs and then 250 non-isomorphs.\n",
      "Using all isomorphisms, which are 384\n"
     ]
    }
   ],
   "source": [
    "test, data, labels = genDatasetOA(N=20, d=4, size=500, options=None)"
   ]
  },
  {
   "cell_type": "markdown",
   "id": "4515140b-839a-42d5-900d-7c89c3ea3657",
   "metadata": {},
   "source": [
    "### Classification Algorithm"
   ]
  },
  {
   "cell_type": "code",
   "execution_count": 155,
   "id": "48389bba-4ade-4482-86e1-6f7121a01eb9",
   "metadata": {},
   "outputs": [],
   "source": [
    "def isomorphismCheck( p1 , p2, d, loop, switchPerms, EPS= 1E-7 ):\n",
    "    ''' Function that implements the classification algorithm\n",
    "    \n",
    "    Takes two pmf's as inputs, returns either True or False\n",
    "    INPUT: \n",
    "    - p1 numpy array of the first normalized pmf\n",
    "    - p2 numpy array of the second normalized pmf\n",
    "    - d: (int) dimension\n",
    "    - loop: (int) how many iterations\n",
    "    - switchPerms: numpy matrix of switch permutations to apply (precompute with allSwitchIsomorphisms)\n",
    "    - EPS: (float) a tolerance for checking if a distance is zero\n",
    "    \n",
    "    OUTPUT:\n",
    "    - True or False (response of the isomorphism test)\n",
    "\n",
    "    '''\n",
    "    \n",
    "    # Compute 1d Wasserstein between pmf's\n",
    "    Was1P = wasserstein1D( p1 , p2 )\n",
    "\n",
    "    Was1F = None\n",
    "\n",
    "    Was2D = None\n",
    "\n",
    "    if Was1P > EPS: # if not zero, they are guaranteed to be non-isomorphic\n",
    "\n",
    "        return False\n",
    "\n",
    "    # otherwise begin the loop\n",
    "    # choose the permutations to apply\n",
    "    \n",
    "    NPerms = switchPerms.shape[1]\n",
    "    try:\n",
    "        samplePerms = np.random.choice(NPerms, (loop,), replace = False)\n",
    "    except ValueError: # replace is True but loop > NPerms\n",
    "        print('Warning: sampling with repeats in IsoTest as loop > number of available permutations')\n",
    "        samplePerms = np.random.choice(NPerms, (loop,), replace = True)\n",
    "\n",
    "    Pmf1 = PMF(d,p1) # pmf object\n",
    "    filt1 = Pmf1.compute_filtration() #compute filtration\n",
    "\n",
    "    pp1 = persistencePairs(filt1, d) # compute pairs\n",
    "    pp1 = pp1[1] # only value pairs, not the integers\n",
    "    \n",
    "    newp2 = p2.copy()\n",
    "\n",
    "    for j in range(loop):\n",
    "        # create pmf objects\n",
    "        \n",
    "        i = samplePerms[j] # choose the permutation for the next step\n",
    "\n",
    "        Pmf2 = PMF(d,newp2)\n",
    "        filt2 = Pmf2.compute_filtration()\n",
    "\n",
    "        Was1F = wasserstein1D( filt1 , filt2 )\n",
    "\n",
    "        if Was1F > EPS: # filtration distance is positive, no need to perform 2D\n",
    "\n",
    "            # choose a random isomorphism\n",
    "            #randInt = np.random.randint(switchPerms.shape[1])\n",
    "\n",
    "            newp2 = p2[switchPerms[:,i]] # apply the isomorphism\n",
    "            \n",
    "            continue # next iteration in the loop\n",
    "\n",
    "        # If instead Was1F == 0, compute Was2D\n",
    "        \n",
    "        pp2 = persistencePairs(filt2, d) # compute pairs\n",
    "        pp2 = pp2[1] # only value pairs, not the integers\n",
    "\n",
    "        Was2D = wasserstein2DNoDiag( pp1, pp2 )\n",
    "        \n",
    "\n",
    "        if Was2D <= EPS: # If this distance is zero, we guess they are isomorphic\n",
    "\n",
    "            return True\n",
    "        \n",
    "        # Instead, if D2 is NOT zero, we keep on searching\n",
    "\n",
    "        # choose a random isomorphism\n",
    "        #randInt = np.random.randint(switchPerms.shape[1])\n",
    "\n",
    "        newp2 = p2[switchPerms[:,i]] # apply the isomorphism\n",
    "        \n",
    "        # and pass to the next loop iteration\n",
    "\n",
    "\n",
    "    # if you get to the end of the loop without ever finding zero, we guess they are not isomorphic   \n",
    "    \n",
    "    return False"
   ]
  },
  {
   "cell_type": "markdown",
   "id": "6c3daf3f-519b-4640-887d-7fbfe9bd9777",
   "metadata": {},
   "source": [
    "### Parameters"
   ]
  },
  {
   "cell_type": "code",
   "execution_count": 134,
   "id": "38dddbc9-ed9f-4a89-8fc0-2e5ef640723b",
   "metadata": {},
   "outputs": [],
   "source": [
    "N = 24\n",
    "d = 5\n",
    "size = 200"
   ]
  },
  {
   "cell_type": "markdown",
   "id": "6e738805-af69-4687-8909-dcee12836378",
   "metadata": {},
   "source": [
    "#### Generate data"
   ]
  },
  {
   "cell_type": "code",
   "execution_count": 135,
   "id": "435bedc3-8f5b-4fde-bd0b-33f1d4c4bf50",
   "metadata": {},
   "outputs": [
    {
     "name": "stdout",
     "output_type": "stream",
     "text": [
      "\n",
      "**\n",
      "Data generated with size 200. First there are 100 isomorphs and then 100 non-isomorphs.\n",
      "Using all isomorphisms, which are 3840\n"
     ]
    }
   ],
   "source": [
    "options = {'WhichClass':'random', 'Ratio':1, 'Isomorphs_Type':'all', 'ShuffleOutput':False, 'Original':False}\n",
    "testArray, data, labels = genDatasetOA(N, d, size, options)"
   ]
  },
  {
   "cell_type": "markdown",
   "id": "99f6b4f2-3f70-4580-a383-49902c2c02ce",
   "metadata": {},
   "source": [
    "#### Pre-compute all switch permutations"
   ]
  },
  {
   "cell_type": "code",
   "execution_count": 9,
   "id": "c35b2e49-35e2-4990-8460-af441321b27a",
   "metadata": {},
   "outputs": [],
   "source": [
    "switchPerms = allSwitchIsomorphisms(d)"
   ]
  },
  {
   "cell_type": "markdown",
   "id": "d2302938-cbd4-4386-9dbc-6218892c5f84",
   "metadata": {},
   "source": [
    "#### Set up algorithm"
   ]
  },
  {
   "cell_type": "code",
   "execution_count": 74,
   "id": "5704ccc7-a16f-4da3-97f4-e4836a017cd2",
   "metadata": {},
   "outputs": [],
   "source": [
    "# Length of loop\n",
    "loop_length = 50\n",
    "\n",
    "testIso = lambda p: isomorphismCheck(testArray, p, d, loop_length, switchPerms)"
   ]
  },
  {
   "cell_type": "markdown",
   "id": "b4466d8f-fc66-4cf8-a274-b572cf14f560",
   "metadata": {},
   "source": [
    "### Run"
   ]
  },
  {
   "cell_type": "code",
   "execution_count": 75,
   "id": "068de2f1-06c4-4192-85ea-aa1d4965f8f6",
   "metadata": {},
   "outputs": [],
   "source": [
    "results = [ testIso(p) for p in data ]"
   ]
  },
  {
   "cell_type": "markdown",
   "id": "c890eae0-d79b-48d2-b51e-75054f46fb82",
   "metadata": {},
   "source": [
    "### Scoring"
   ]
  },
  {
   "cell_type": "code",
   "execution_count": 25,
   "id": "b524a6d8-cf57-4b3f-bb43-9431bfdd2ed1",
   "metadata": {},
   "outputs": [
    {
     "name": "stdout",
     "output_type": "stream",
     "text": [
      "       * SCORING * \n",
      "\n",
      "          Pred  \n",
      "       Pos   Neg\n",
      "    Pos  22   78\n",
      "True\n",
      "    Neg  0   100\n",
      " \n"
     ]
    }
   ],
   "source": [
    "def scoring(results, labels):\n",
    "    \n",
    "    truePos = trueNeg = falsePos = falseNeg = 0\n",
    "    \n",
    "    for r,l in zip(results, labels):\n",
    "        if l:\n",
    "            if r:\n",
    "                truePos += 1\n",
    "            else:\n",
    "                falseNeg += 1\n",
    "        else:\n",
    "            if r:\n",
    "                falsePos += 1\n",
    "            else:\n",
    "                trueNeg += 1\n",
    "                \n",
    "    return truePos, trueNeg, falsePos, falseNeg\n",
    "\n",
    "#Score\n",
    "print('       * SCORING * ', flush=True)\n",
    "print('')\n",
    "\n",
    "truePos, trueNeg, falsePos, falseNeg = scoring(results, labels)\n",
    "\n",
    "print('          Pred  ')\n",
    "print('       Pos   Neg' )\n",
    "print('    Pos ', truePos, ' ',  falseNeg)\n",
    "print('True')\n",
    "print('    Neg ', falsePos, ' ',  trueNeg)\n",
    "print(' ')"
   ]
  },
  {
   "cell_type": "markdown",
   "id": "158ebf5f-81f5-478a-9819-9b35f1d829de",
   "metadata": {},
   "source": [
    "#### Metrics"
   ]
  },
  {
   "cell_type": "code",
   "execution_count": 26,
   "id": "c141f106-6b5d-43ae-9332-0a3105d6e2ce",
   "metadata": {},
   "outputs": [],
   "source": [
    "def metrics(truePos, trueNeg, falsePos, falseNeg):\n",
    "\n",
    "    accuracy = np.float64(truePos + trueNeg) / (truePos+falsePos+trueNeg+falseNeg)\n",
    "    precision = np.float64(truePos) / (truePos+falsePos)\n",
    "    recall =  np.float64(truePos) / (truePos + falseNeg)\n",
    "    F1 = 2*(precision*recall)/(precision+recall)\n",
    "    \n",
    "    return accuracy,precision,recall,F1\n",
    "\n",
    "accuracy,precision,recall,F1 = metrics(truePos, trueNeg, falsePos, falseNeg)"
   ]
  },
  {
   "cell_type": "code",
   "execution_count": 27,
   "id": "aff6eefc-d3c1-4f6e-9ddf-b0adf0603a72",
   "metadata": {},
   "outputs": [
    {
     "name": "stdout",
     "output_type": "stream",
     "text": [
      "Accuracy 0.61\n",
      "Precision 1.0\n",
      "Recall 0.22\n",
      "F1 score 0.36065573770491804\n"
     ]
    }
   ],
   "source": [
    "print('Accuracy', accuracy)\n",
    "print('Precision', precision)\n",
    "print('Recall', recall)\n",
    "print('F1 score', F1)"
   ]
  },
  {
   "cell_type": "markdown",
   "id": "31ae3cc6-c52a-4be9-bb2b-fde8c7cf4697",
   "metadata": {},
   "source": [
    "## Test the algorithm at different loop lengths"
   ]
  },
  {
   "cell_type": "markdown",
   "id": "815d172c-1945-48ca-bb5d-548a967bacc7",
   "metadata": {},
   "source": [
    "Dimension parameters"
   ]
  },
  {
   "cell_type": "code",
   "execution_count": 217,
   "id": "a39ddfd7-dbed-4a7f-a785-0a7a04faba51",
   "metadata": {},
   "outputs": [],
   "source": [
    "N = 20\n",
    "d = 6\n",
    "size = 200"
   ]
  },
  {
   "cell_type": "markdown",
   "id": "790337e4-b7ba-49e2-88a9-d04f08c7c136",
   "metadata": {},
   "source": [
    "Test parameters \n",
    "\n",
    "How many iterations for each parameter point?\n",
    "Which eps?"
   ]
  },
  {
   "cell_type": "code",
   "execution_count": 218,
   "id": "ed2193b1-bfd7-45e0-b1ca-b04dbd153778",
   "metadata": {},
   "outputs": [],
   "source": [
    "repeats = 5\n",
    "eps = 1E-5"
   ]
  },
  {
   "cell_type": "markdown",
   "id": "0d3a967e-84c8-4f1c-9312-aff815b7d922",
   "metadata": {},
   "source": [
    "Store the performance results"
   ]
  },
  {
   "cell_type": "code",
   "execution_count": 219,
   "id": "836cdf27-61cf-4245-89f6-eb02b55bee53",
   "metadata": {},
   "outputs": [],
   "source": [
    "AAcc = []\n",
    "APrec = []\n",
    "ARec = []\n",
    "AF1s = []"
   ]
  },
  {
   "cell_type": "markdown",
   "id": "f0651d4d-4299-4d78-ad82-d752bdc2e730",
   "metadata": {},
   "source": [
    "Generate the loop length steps"
   ]
  },
  {
   "cell_type": "code",
   "execution_count": 221,
   "id": "f3aa4021-e9c8-41e3-98d8-c6761121e922",
   "metadata": {},
   "outputs": [
    {
     "data": {
      "text/plain": [
       "[1, 13, 26, 38, 51, 64]"
      ]
     },
     "execution_count": 221,
     "metadata": {},
     "output_type": "execute_result"
    }
   ],
   "source": [
    "loopLengths = np.linspace(1,2**d, num=6, dtype=int).tolist()\n",
    "\n",
    "loopLengths"
   ]
  },
  {
   "cell_type": "markdown",
   "id": "759e6884-0dca-4580-9022-7e7b46e4ebd3",
   "metadata": {},
   "source": [
    "Precompute switch isomorphisms"
   ]
  },
  {
   "cell_type": "code",
   "execution_count": 200,
   "id": "08b09b04-e262-493a-8161-51cf22b7eada",
   "metadata": {},
   "outputs": [],
   "source": [
    "switchPerms = allSwitchIsomorphisms(d)"
   ]
  },
  {
   "cell_type": "code",
   "execution_count": 193,
   "id": "72dbe2a4-d672-428f-92e9-ba43d3d3894d",
   "metadata": {},
   "outputs": [],
   "source": [
    "allPerms = allIsomorphisms(d)"
   ]
  },
  {
   "cell_type": "code",
   "execution_count": 194,
   "id": "630e087b-1df5-4ef4-aee7-6b578c268fd2",
   "metadata": {},
   "outputs": [
    {
     "data": {
      "text/plain": [
       "(64, 46080)"
      ]
     },
     "execution_count": 194,
     "metadata": {},
     "output_type": "execute_result"
    }
   ],
   "source": [
    "allPerms.shape"
   ]
  },
  {
   "cell_type": "markdown",
   "id": "a5d1adb2-e1ba-4357-934a-4393853e5e40",
   "metadata": {},
   "source": [
    "Use a sample to mix some permutations into the switches"
   ]
  },
  {
   "cell_type": "code",
   "execution_count": 22,
   "id": "5a711a0b-c212-4b1e-a180-6ab9b41e7e29",
   "metadata": {},
   "outputs": [],
   "source": [
    "sample = np.random.choice(allPerms.shape[1], (2**d,))\n",
    "\n",
    "Perms = np.column_stack([switchPerms, allPerms[:,sample]])\n"
   ]
  },
  {
   "cell_type": "markdown",
   "id": "4891e188-74de-48be-bbc9-31ad0535f269",
   "metadata": {},
   "source": [
    "### Run the cycle"
   ]
  },
  {
   "cell_type": "code",
   "execution_count": 222,
   "id": "9e55a137-f337-44d7-92c5-0029cabaf2eb",
   "metadata": {
    "tags": []
   },
   "outputs": [
    {
     "name": "stdout",
     "output_type": "stream",
     "text": [
      "Loop parameter  1\n",
      "  Iteration  1  of  5\n",
      "  Iteration  2  of  5\n"
     ]
    },
    {
     "name": "stderr",
     "output_type": "stream",
     "text": [
      "/tmp/ipykernel_5042/3999208988.py:4: RuntimeWarning: invalid value encountered in scalar divide\n",
      "  precision = np.float64(truePos) / (truePos+falsePos)\n"
     ]
    },
    {
     "name": "stdout",
     "output_type": "stream",
     "text": [
      "  Iteration  3  of  5\n",
      "  Iteration  4  of  5\n",
      "  Iteration  5  of  5\n",
      "Loop parameter  13\n",
      "  Iteration  1  of  5\n",
      "  Iteration  2  of  5\n",
      "  Iteration  3  of  5\n",
      "  Iteration  4  of  5\n",
      "  Iteration  5  of  5\n",
      "Loop parameter  26\n",
      "  Iteration  1  of  5\n",
      "  Iteration  2  of  5\n",
      "  Iteration  3  of  5\n",
      "  Iteration  4  of  5\n",
      "  Iteration  5  of  5\n",
      "Loop parameter  38\n",
      "  Iteration  1  of  5\n",
      "  Iteration  2  of  5\n",
      "  Iteration  3  of  5\n",
      "  Iteration  4  of  5\n",
      "  Iteration  5  of  5\n",
      "Loop parameter  51\n",
      "  Iteration  1  of  5\n",
      "  Iteration  2  of  5\n",
      "  Iteration  3  of  5\n",
      "  Iteration  4  of  5\n",
      "  Iteration  5  of  5\n",
      "Loop parameter  64\n",
      "  Iteration  1  of  5\n",
      "  Iteration  2  of  5\n",
      "  Iteration  3  of  5\n",
      "  Iteration  4  of  5\n",
      "  Iteration  5  of  5\n"
     ]
    }
   ],
   "source": [
    "for loop in loopLengths:\n",
    "    \n",
    "    Accs, Precs, Recs, F1s = [],[],[],[]\n",
    "    \n",
    "    print('Loop parameter ',loop, flush=True)\n",
    "    \n",
    "    for r in range(repeats):\n",
    "        \n",
    "        print('  Iteration ', r+1, ' of ', repeats, flush=True)\n",
    "        \n",
    "        # generate data\n",
    "        options = {'WhichClass':'random', 'Ratio':1, 'Isomorphs_Type':'all', \\\n",
    "                   'ShuffleOutput':False, 'Verbose':False, 'Original':False}\n",
    "        testArray, data, labels = genDatasetOA(N, d, size, options, Perms=allPerms)\n",
    "        \n",
    "        # define the test with appropriate length\n",
    "        testIso = lambda p: isomorphismCheck(testArray, p, d, loop, switchPerms, EPS=eps)\n",
    "        \n",
    "        # run the test\n",
    "        results = [ testIso(p) for p in data ]\n",
    "        \n",
    "        # compute scores\n",
    "        acc, prec, rec, f1 = metrics(*scoring(results,labels))\n",
    "        \n",
    "        Accs.append(acc)\n",
    "        Precs.append(prec)\n",
    "        Recs.append(rec)\n",
    "        F1s.append(f1)\n",
    "        \n",
    "    AAcc.append(Accs)\n",
    "    APrec.append(Precs)\n",
    "    ARec.append(Recs)\n",
    "    AF1s.append(F1s)\n",
    "    \n",
    "        "
   ]
  },
  {
   "cell_type": "code",
   "execution_count": 223,
   "id": "00c48a6a-291d-40b4-a337-f3e547e362be",
   "metadata": {},
   "outputs": [
    {
     "data": {
      "text/plain": [
       "[1, 13, 26, 38, 51, 64]"
      ]
     },
     "execution_count": 223,
     "metadata": {},
     "output_type": "execute_result"
    }
   ],
   "source": [
    "loopLengths"
   ]
  },
  {
   "cell_type": "markdown",
   "id": "2fcdf950-70d9-494f-8771-b88dae44a492",
   "metadata": {},
   "source": [
    "## Plot results"
   ]
  },
  {
   "cell_type": "code",
   "execution_count": 224,
   "id": "dabb7227-230c-4a03-9d01-b86f856273e8",
   "metadata": {},
   "outputs": [],
   "source": [
    "AccMeans = [np.nanmean(elem) for elem in AAcc]\n",
    "APrecMeans = [np.nanmean(elem) for elem in APrec]\n",
    "ARecMeans = [np.nanmean(elem) for elem in ARec]\n",
    "AF1sMeans = [np.nanmean(elem) for elem in AF1s]"
   ]
  },
  {
   "cell_type": "code",
   "execution_count": 31,
   "id": "529d3110-98e5-453a-99ba-97a2c5431c1b",
   "metadata": {},
   "outputs": [],
   "source": [
    "AccMeans = [np.nan_to_num(elem) for elem in AccMeans]\n",
    "APrecMeans = [np.nan_to_num(elem) for elem in APrecMeans]\n",
    "ARecMeans = [np.nan_to_num(elem) for elem in ARecMeans]\n",
    "AF1sMeans = [np.nan_to_num(elem) for elem in AF1sMeans]"
   ]
  },
  {
   "cell_type": "code",
   "execution_count": 164,
   "id": "dd7794db-cea6-46d3-b55d-4322b5080229",
   "metadata": {},
   "outputs": [
    {
     "data": {
      "image/png": "[encoded data removed]",
      "text/plain": [
       "<Figure size 640x480 with 1 Axes>"
      ]
     },
     "metadata": {},
     "output_type": "display_data"
    }
   ],
   "source": [
    "plt.plot(loopLengths, ARecMeans, '*')\n",
    "plt.grid()\n",
    "plt.title('Avg Recall vs loop length');\n",
    "plt.xlabel('Loop iterations (#)')\n",
    "plt.ylabel('Accuracy (%)')\n",
    "plt.ylim(0.0,1.0);"
   ]
  },
  {
   "cell_type": "markdown",
   "id": "45ec8a65-1f1b-4909-a553-d7b59ebf52e6",
   "metadata": {},
   "source": [
    "#### "
   ]
  },
  {
   "cell_type": "code",
   "execution_count": 129,
   "id": "edf15717-ef5f-48a6-97bb-3bd6be8001b9",
   "metadata": {},
   "outputs": [
    {
     "data": {
      "text/plain": [
       "[[1.0, 0.89, 1.0, 1.0, 1.0, 1.0, 0.99, 1.0, 1.0, 1.0]]"
      ]
     },
     "execution_count": 129,
     "metadata": {},
     "output_type": "execute_result"
    }
   ],
   "source": [
    "ARec"
   ]
  },
  {
   "cell_type": "code",
   "execution_count": 130,
   "id": "4058dddb-9da1-42da-848f-6dc43640d6bf",
   "metadata": {},
   "outputs": [
    {
     "data": {
      "text/plain": [
       "[[1.0, 1.0, 1.0, 1.0, 1.0, 1.0, 1.0, 1.0, 1.0, 1.0]]"
      ]
     },
     "execution_count": 130,
     "metadata": {},
     "output_type": "execute_result"
    }
   ],
   "source": [
    "APrec"
   ]
  },
  {
   "cell_type": "markdown",
   "id": "f78212ba-47c9-4ce8-a7e6-d0cd68f3dd33",
   "metadata": {},
   "source": [
    "## Plot metrics averages"
   ]
  },
  {
   "cell_type": "code",
   "execution_count": 225,
   "id": "5d531107-98b7-4088-83e5-59191a1f9c0b",
   "metadata": {},
   "outputs": [
    {
     "data": {
      "image/png": "[encoded data removed]",
      "text/plain": [
       "<Figure size 1000x800 with 4 Axes>"
      ]
     },
     "metadata": {},
     "output_type": "display_data"
    }
   ],
   "source": [
    "fig, axs = plt.subplots(2, 2, figsize=(10, 8))  \n",
    "fig.suptitle('Metrics')\n",
    "\n",
    "\n",
    "axs[0, 0].set_title('Avg Accuracy vs loop length')\n",
    "axs[0, 0].plot(loopLengths, AccMeans, 'kx') \n",
    "axs[0,0].grid()\n",
    "axs[0,0].axvline(x=2**d, color='k', linestyle='-.', linewidth=.9)\n",
    "axs[0,0].set_xlabel('Loop iterations (#)')\n",
    "axs[0,0].set_ylabel('Accuracy')\n",
    "axs[0,0].set_ylim(0.0,1.0);\n",
    "\n",
    "axs[0, 1].set_title('Avg Precision vs loop length')\n",
    "axs[0, 1].plot(loopLengths, APrecMeans, 'kx') \n",
    "axs[0, 1].grid()\n",
    "axs[0,1].axvline(x=2**d, color='k', linestyle='-.', linewidth=.9)\n",
    "axs[0,1].set_xlabel('Loop iterations (#)')\n",
    "axs[0,1].set_ylabel('Precision')\n",
    "axs[0,1].set_ylim(0.0,1.0);\n",
    "\n",
    "\n",
    "axs[1, 0].set_title('Avg Recall vs loop length')\n",
    "axs[1, 0].plot(loopLengths, ARecMeans, 'kx')\n",
    "axs[1, 0].grid()\n",
    "axs[1,0].axvline(x=2**d, color='k', linestyle='-.', linewidth=.9)\n",
    "axs[1,0].set_xlabel('Loop iterations (#)')\n",
    "axs[1,0].set_ylabel('Recall')\n",
    "axs[1,0].set_ylim(0.0,1.0);\n",
    "\n",
    "axs[1, 1].set_title('Avg F1 vs loop length')\n",
    "axs[1, 1].plot(loopLengths, AF1sMeans, 'kx')\n",
    "axs[1, 1].grid()\n",
    "axs[1,1].axvline(x=2**d, color='k', linestyle='-.', linewidth=.9)\n",
    "axs[1,1].set_xlabel('Loop iterations (#)')\n",
    "axs[1,1].set_ylabel('F1')\n",
    "axs[1,1].set_ylim(0.0,1.0);\n",
    "\n",
    "\n",
    "plt.tight_layout()"
   ]
  },
  {
   "cell_type": "markdown",
   "id": "5bb51d42-23cf-4fc2-a2b4-533e00dced45",
   "metadata": {},
   "source": [
    "## Plot metrics points"
   ]
  },
  {
   "cell_type": "code",
   "execution_count": 226,
   "id": "0da809d0-fe7a-4d73-b9f6-e8f03339ba6e",
   "metadata": {},
   "outputs": [
    {
     "data": {
      "image/png": "[encoded data removed]",
      "text/plain": [
       "<Figure size 1000x800 with 4 Axes>"
      ]
     },
     "metadata": {},
     "output_type": "display_data"
    }
   ],
   "source": [
    "fig, axs = plt.subplots(2, 2, figsize=(10, 8))  # Adjust figsize as needed\n",
    "fig.suptitle('Metrics')\n",
    "\n",
    "# Access each subplot by indexing\n",
    "axs[0, 0].set_title('Accuracy vs loop length')\n",
    "for i,l in enumerate(loopLengths):\n",
    "    for vals in AAcc[i]:\n",
    "        axs[0, 0].plot(l, vals, '*') \n",
    "axs[0,0].grid()\n",
    "axs[0,0].axvline(x=2**d, color='k', linestyle='-.', linewidth=.9)\n",
    "axs[0,0].set_xlabel('Loop iterations (#)')\n",
    "axs[0,0].set_ylabel('Accuracy')\n",
    "axs[0,0].set_ylim(0.0,1.0);\n",
    "\n",
    "axs[0, 1].set_title('Precision vs loop length')\n",
    "for i,l in enumerate(loopLengths):\n",
    "    for vals in APrec[i]:\n",
    "        axs[0, 1].plot(l, vals, '*') \n",
    "\n",
    "axs[0, 1].grid()\n",
    "axs[0,1].axvline(x=2**d, color='k', linestyle='-.', linewidth=.9)\n",
    "axs[0,1].set_xlabel('Loop iterations (#)')\n",
    "axs[0,1].set_ylabel('Precision')\n",
    "axs[0,1].set_ylim(0.0,1.0);\n",
    "\n",
    "\n",
    "axs[1, 0].set_title('Recall vs loop length')\n",
    "for i,l in enumerate(loopLengths):\n",
    "    for vals in ARec[i]:\n",
    "        axs[1, 0].plot(l, vals, '*')       \n",
    "axs[1,0].grid()\n",
    "axs[1,0].axvline(x=2**d, color='k', linestyle='-.', linewidth=.9)\n",
    "axs[1,0].set_xlabel('Loop iterations (#)')\n",
    "axs[1,0].set_ylabel('Recall')\n",
    "axs[1,0].set_ylim(0.0,1.0);\n",
    "\n",
    "axs[1, 1].set_title('F1 vs loop length')\n",
    "for i,l in enumerate(loopLengths):\n",
    "    for vals in AF1s[i]:\n",
    "        axs[1, 1].plot(l, vals, '*') \n",
    "axs[1, 1].grid()\n",
    "axs[1,1].axvline(x=2**d, color='k', linestyle='-.', linewidth=.9)\n",
    "axs[1,1].set_xlabel('Loop iterations (#)')\n",
    "axs[1,1].set_ylabel('F1')\n",
    "axs[1,1].set_ylim(0.0,1.0);\n",
    "\n",
    "\n",
    "plt.tight_layout()"
   ]
  },
  {
   "cell_type": "markdown",
   "id": "b87bd46f-9903-4aa5-beab-e9ed6d9b2dbe",
   "metadata": {},
   "source": [
    "## Try Normal Form in oapackage"
   ]
  },
  {
   "cell_type": "code",
   "execution_count": 228,
   "id": "75abc1fd-08e7-448b-8e31-f526caea63a0",
   "metadata": {},
   "outputs": [],
   "source": [
    "import oapackage"
   ]
  },
  {
   "cell_type": "code",
   "execution_count": 233,
   "id": "96414e09-e12a-4fa6-9751-f04611cd1a2b",
   "metadata": {},
   "outputs": [
    {
     "name": "stdout",
     "output_type": "stream",
     "text": [
      "00000\n",
      "00000\n",
      "00011\n",
      "00101\n",
      "01010\n",
      "01100\n",
      "01111\n",
      "01111\n",
      "10011\n",
      "10101\n",
      "10110\n",
      "10110\n",
      "11001\n",
      "11001\n",
      "11010\n",
      "11100\n"
     ]
    }
   ],
   "source": [
    "array = oapackage.exampleArray(1, 0)\n",
    "array.showarraycompact()"
   ]
  },
  {
   "cell_type": "markdown",
   "id": "3c5ccedb-b3ff-4f4d-aaf1-777232217ecf",
   "metadata": {},
   "source": [
    "## array = array.randomperm()\n",
    "array.showarraycompact()"
   ]
  },
  {
   "cell_type": "code",
   "execution_count": 237,
   "id": "47dd81a9-c914-41a3-ba90-7775d1d9781b",
   "metadata": {},
   "outputs": [
    {
     "name": "stdout",
     "output_type": "stream",
     "text": [
      "00000\n",
      "00000\n",
      "00011\n",
      "00101\n",
      "01010\n",
      "01100\n",
      "01111\n",
      "01111\n",
      "10011\n",
      "10101\n",
      "10110\n",
      "10110\n",
      "11001\n",
      "11001\n",
      "11010\n",
      "11100\n"
     ]
    }
   ],
   "source": [
    "array.reduceLMC().showarraycompact()"
   ]
  },
  {
   "cell_type": "code",
   "execution_count": null,
   "id": "67417135-123d-4e08-86b4-2272097b0c98",
   "metadata": {},
   "outputs": [],
   "source": [
    "array = array.randomperm()\n",
    "\n",
    "print('input array:'); array.transposed().showarraycompact()"
   ]
  },
  {
   "cell_type": "markdown",
   "id": "69ca4fad-b775-4b13-a4a6-7a8f211bbc64",
   "metadata": {},
   "source": [
    "## Discriminating power of each distance\n",
    "Considering all pairs of isoclasses $i<j$ (hence non-isomorphic), find how many are already classified by $d_W^1(p)$, how many more are solved by $d_W^1(\\mu)$, and how many can fool $d_W^2$ too."
   ]
  },
  {
   "cell_type": "code",
   "execution_count": 1,
   "id": "b1e49714-2b49-4d04-8227-0cc15dc6b975",
   "metadata": {},
   "outputs": [
    {
     "ename": "ModuleNotFoundError",
     "evalue": "No module named 'oapackage'",
     "output_type": "error",
     "traceback": [
      "\u001b[0;31m---------------------------------------------------------------------------\u001b[0m",
      "\u001b[0;31mModuleNotFoundError\u001b[0m                       Traceback (most recent call last)",
      "Cell \u001b[0;32mIn [1], line 1\u001b[0m\n\u001b[0;32m----> 1\u001b[0m \u001b[38;5;28;01mimport\u001b[39;00m \u001b[38;5;21;01moapackage\u001b[39;00m\n",
      "\u001b[0;31mModuleNotFoundError\u001b[0m: No module named 'oapackage'"
     ]
    }
   ],
   "source": [
    "import oapackage"
   ]
  },
  {
   "cell_type": "code",
   "execution_count": null,
   "id": "2ca83b95-354e-46f0-a500-a3c3c91eb1ce",
   "metadata": {},
   "outputs": [],
   "source": []
  }
 ],
 "metadata": {
  "kernelspec": {
   "display_name": "Python 3 (ipykernel)",
   "language": "python",
   "name": "python3"
  },
  "language_info": {
   "codemirror_mode": {
    "name": "ipython",
    "version": 3
   },
   "file_extension": ".py",
   "mimetype": "text/x-python",
   "name": "python",
   "nbconvert_exporter": "python",
   "pygments_lexer": "ipython3",
   "version": "3.9.13"
  }
 },
 "nbformat": 4,
 "nbformat_minor": 5
}
