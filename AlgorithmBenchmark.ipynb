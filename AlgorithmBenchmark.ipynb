{
 "cells": [
  {
   "cell_type": "markdown",
   "id": "85398a89-b89c-422d-a1a7-e433347fd171",
   "metadata": {},
   "source": [
    "# Benchmark algorithm for isomorphism of OA's"
   ]
  },
  {
   "cell_type": "markdown",
   "id": "a5c5b94e-aec5-447c-87c9-de7d54d17516",
   "metadata": {},
   "source": [
    "#### Scheme\n",
    "\n",
    "As in \"Classifier\":\n",
    " - Generate one OA to test against\n",
    " -  generate a dataset of OA's, balanced 50% iso and 50% non-iso\n",
    " - measure the performance of the algorithm\n",
    " - Test against the computational complexity of other (exact) approaches\n",
    "    "
   ]
  },
  {
   "cell_type": "markdown",
   "id": "4ed08b4c-66ec-445f-9053-3dae0ccab351",
   "metadata": {},
   "source": [
    "### Remarks:\n",
    "As per the theory, it only makes sense to use **switch** isomorphisms, so at most there are $2^d$ isomorphs of each array. It makes no sense to use \"sampleChildren\" larger than this"
   ]
  },
  {
   "cell_type": "markdown",
   "id": "245554fe-0ce0-4992-9ada-e47500d6fd61",
   "metadata": {},
   "source": [
    "Imports"
   ]
  },
  {
   "cell_type": "code",
   "execution_count": 1,
   "id": "f52bc89d-020a-43ee-bac4-64393c59ef8c",
   "metadata": {},
   "outputs": [],
   "source": [
    "import os\n",
    "import os.path\n",
    "\n",
    "import numpy as np\n",
    "from statistics.pmf import PMF\n",
    "from statistics.OA import OA, genOA, genFiltrations\n",
    "from statistics.OAIso import allIsomorphisms, allSwitchIsomorphisms\n",
    "from persistence.pers import compute_perm_classes, persistencePairs, WasDistances, BotDistances, Was1DDistances, DistancesDistr\n",
    "from persistence.distances import wasserstein2DNoDiag, wasserstein1D\n",
    "\n",
    "#These are not necessary\n",
    "#from geometry.polytope import Polytope, computePolytope\n",
    "#from geometry.polytope import conditionsOA3, conditionsOA4, conditionsOA5\n",
    "\n",
    "import random\n",
    "\n",
    "#from scipy.spatial import distance_matrix\n",
    "import matplotlib.pyplot as plt\n",
    "import pandas as pd"
   ]
  },
  {
   "cell_type": "markdown",
   "id": "f824d92c-bf25-4213-a00a-58d6075abd95",
   "metadata": {},
   "source": [
    "### Parameters"
   ]
  },
  {
   "cell_type": "code",
   "execution_count": 2,
   "id": "28ba8030-245d-450e-87a1-48e85fca1ab5",
   "metadata": {},
   "outputs": [],
   "source": [
    "N = 24\n",
    "d = 5\n",
    "\n",
    "\n",
    "sampleChildren = 500\n",
    "sampleChildren = 32\n",
    "loop = 500\n"
   ]
  },
  {
   "cell_type": "markdown",
   "id": "8451fae5-3253-4100-bf62-d494d1a8591c",
   "metadata": {},
   "source": [
    "### Complexity Comparison\n",
    "\n",
    "We are now sure that the normal form of on OA gives a unique representative of its iso class. It is computed by the LMC test (lexicographically minimum by columns), described in Schoen, Eendebak, Nguyen (2009). Its complexity is not straightforward, but we could estimate that for the positive case (array is minimal) it is of the same order as $d! 2^2$. It is implemented in the `oapackage` library as `reduceLMCform( arr )`.\n",
    "\n",
    "Our test has a tunable complexity, so in case the exact complexity is impractical, we could still provide as answer with a certain amount of confidence. We can showcase it by describing the accuracy curve as a function of complexity (% of correct guesses as a function of how many loop iterations). Notice we do at most $2^d$ iterations (number of switch isomorphisms) (in fact we could remove one as we do not use the identity). \n",
    "\n",
    "One goal would be to identify whether the exact complexity is greater or smaller than $2^d$. The other one would be to idenify if, for example, the 50-50 threshold (which is equivalent to chance for a binary test) sits at a sufficiently small fraction of the complexity of the exact test. "
   ]
  },
  {
   "cell_type": "code",
   "execution_count": null,
   "id": "8272f43a-1c08-4941-8688-4c2753aa9e6a",
   "metadata": {},
   "outputs": [],
   "source": []
  }
 ],
 "metadata": {
  "kernelspec": {
   "display_name": "Python 3 (ipykernel)",
   "language": "python",
   "name": "python3"
  },
  "language_info": {
   "codemirror_mode": {
    "name": "ipython",
    "version": 3
   },
   "file_extension": ".py",
   "mimetype": "text/x-python",
   "name": "python",
   "nbconvert_exporter": "python",
   "pygments_lexer": "ipython3",
   "version": "3.9.13"
  }
 },
 "nbformat": 4,
 "nbformat_minor": 5
}
