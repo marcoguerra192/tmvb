{
 "cells": [
  {
   "cell_type": "markdown",
   "id": "18828f7d-2a2f-4416-9387-9d89c7a9519f",
   "metadata": {},
   "source": [
    "# Conjecture\n",
    "\n",
    "Cerchiamo di capire se non-iso => non zero"
   ]
  },
  {
   "cell_type": "markdown",
   "id": "e424143f-a66d-4887-a234-8e8b0c14e63c",
   "metadata": {},
   "source": [
    "Generiamo un caso $d=4$"
   ]
  },
  {
   "cell_type": "code",
   "execution_count": 36,
   "id": "c03004a5-3c22-4dd2-82df-3d702e4aff9e",
   "metadata": {},
   "outputs": [],
   "source": [
    "import numpy as np\n",
    "from statistics.pmf import PMF\n",
    "from statistics.OA import OA, genOA, genFiltrations\n",
    "from statistics.OAIso import allIsomorphisms\n",
    "from persistence.pers import compute_perm_classes, persistencePairs, WasDistances, BotDistances, L2Distances, AvgDistances, DistancesDistr, wassersteinDistanceDiags\n",
    "from persistence.distances import wasserstein2DNoDiag, wasserstein1D\n",
    "from geometry.polytope import Polytope, computePolytope\n",
    "from geometry.polytope import conditionsOA3, conditionsOA4, conditionsOA5\n",
    "\n",
    "from scipy.spatial import distance_matrix\n",
    "import matplotlib.pyplot as plt"
   ]
  },
  {
   "cell_type": "code",
   "execution_count": 14,
   "id": "24bad469-9615-402a-9a0e-284828b2477c",
   "metadata": {},
   "outputs": [],
   "source": [
    "oas , _ , _ =genOA(20, d=4)"
   ]
  },
  {
   "cell_type": "code",
   "execution_count": 6,
   "id": "9341acf6-e4cf-4b6b-83aa-d819f56035fd",
   "metadata": {},
   "outputs": [
    {
     "data": {
      "text/plain": [
       "[<statistics.OA.OA at 0x7f831fbc66d0>,\n",
       " <statistics.OA.OA at 0x7f831fbc63d0>,\n",
       " <statistics.OA.OA at 0x7f831fbc6550>]"
      ]
     },
     "execution_count": 6,
     "metadata": {},
     "output_type": "execute_result"
    }
   ],
   "source": [
    "oas"
   ]
  },
  {
   "cell_type": "code",
   "execution_count": 23,
   "id": "3145cbd4-d802-4ac8-83bd-441130186ea6",
   "metadata": {},
   "outputs": [
    {
     "name": "stdout",
     "output_type": "stream",
     "text": [
      "[[0.15]\n",
      " [0.05]\n",
      " [0.  ]\n",
      " [0.05]\n",
      " [0.  ]\n",
      " [0.05]\n",
      " [0.1 ]\n",
      " [0.1 ]\n",
      " [0.  ]\n",
      " [0.05]\n",
      " [0.1 ]\n",
      " [0.1 ]\n",
      " [0.1 ]\n",
      " [0.1 ]\n",
      " [0.05]\n",
      " [0.  ]]\n"
     ]
    }
   ],
   "source": [
    "p1 = oas[0].to_pmf(normalize=True)\n",
    "print(p1)"
   ]
  },
  {
   "cell_type": "code",
   "execution_count": 24,
   "id": "8c37f0f2-ea77-43b0-babf-d47c56756a2b",
   "metadata": {},
   "outputs": [
    {
     "data": {
      "text/plain": [
       "array([[1.  ],\n",
       "       [0.5 ],\n",
       "       [0.5 ],\n",
       "       [0.25],\n",
       "       [0.5 ],\n",
       "       [0.25],\n",
       "       [0.25],\n",
       "       [0.1 ],\n",
       "       [0.5 ],\n",
       "       [0.25],\n",
       "       [0.25],\n",
       "       [0.1 ],\n",
       "       [0.25],\n",
       "       [0.1 ],\n",
       "       [0.05],\n",
       "       [0.  ]])"
      ]
     },
     "execution_count": 24,
     "metadata": {},
     "output_type": "execute_result"
    }
   ],
   "source": [
    "p1.compute_moments()"
   ]
  },
  {
   "cell_type": "code",
   "execution_count": 26,
   "id": "a91000ae-ba8b-4dae-b814-679bf58bbd99",
   "metadata": {},
   "outputs": [
    {
     "data": {
      "text/plain": [
       "array([[0.  ],\n",
       "       [0.5 ],\n",
       "       [0.5 ],\n",
       "       [0.75],\n",
       "       [0.5 ],\n",
       "       [0.75],\n",
       "       [0.75],\n",
       "       [0.9 ],\n",
       "       [0.5 ],\n",
       "       [0.75],\n",
       "       [0.75],\n",
       "       [0.9 ],\n",
       "       [0.75],\n",
       "       [0.9 ],\n",
       "       [0.95],\n",
       "       [1.  ]])"
      ]
     },
     "execution_count": 26,
     "metadata": {},
     "output_type": "execute_result"
    }
   ],
   "source": [
    "f1 = p1.compute_filtration()\n",
    "f1"
   ]
  },
  {
   "cell_type": "code",
   "execution_count": 27,
   "id": "2162517f-71f7-41df-b9df-337575d70c2c",
   "metadata": {},
   "outputs": [
    {
     "data": {
      "text/plain": [
       "([[2, 3],\n",
       "  [4, 5],\n",
       "  [8, 9],\n",
       "  [6, 7],\n",
       "  [10, 11],\n",
       "  [12, 13],\n",
       "  [14, 15],\n",
       "  [0, inf],\n",
       "  [1, inf]],\n",
       " [[0.5, 0.75],\n",
       "  [0.5, 0.75],\n",
       "  [0.5, 0.75],\n",
       "  [0.75, 0.9],\n",
       "  [0.75, 0.9],\n",
       "  [0.75, 0.9],\n",
       "  [0.95, 1.0],\n",
       "  [0.0, inf],\n",
       "  [0.5, inf]])"
      ]
     },
     "execution_count": 27,
     "metadata": {},
     "output_type": "execute_result"
    }
   ],
   "source": [
    "persistencePairs(f1 , d=4)"
   ]
  },
  {
   "cell_type": "code",
   "execution_count": 71,
   "id": "0cc41195-9996-42dc-8f1f-ef35f2082b2d",
   "metadata": {},
   "outputs": [
    {
     "name": "stdout",
     "output_type": "stream",
     "text": [
      "[[0.15]\n",
      " [0.  ]\n",
      " [0.  ]\n",
      " [0.1 ]\n",
      " [0.  ]\n",
      " [0.1 ]\n",
      " [0.1 ]\n",
      " [0.05]\n",
      " [0.  ]\n",
      " [0.1 ]\n",
      " [0.1 ]\n",
      " [0.05]\n",
      " [0.1 ]\n",
      " [0.05]\n",
      " [0.05]\n",
      " [0.05]]\n"
     ]
    }
   ],
   "source": [
    "p2 = oas[1].to_pmf(normalize=True)\n",
    "f2 = p2.compute_filtration()\n",
    "print(p2)"
   ]
  },
  {
   "cell_type": "code",
   "execution_count": 39,
   "id": "9c46cf0c-d4f5-46c5-a8dc-281fd0c2ad37",
   "metadata": {},
   "outputs": [
    {
     "data": {
      "text/plain": [
       "([[2, 3],\n",
       "  [4, 5],\n",
       "  [8, 9],\n",
       "  [6, 7],\n",
       "  [10, 11],\n",
       "  [12, 13],\n",
       "  [14, 15],\n",
       "  [0, inf],\n",
       "  [1, inf]],\n",
       " [[0.5, 0.75],\n",
       "  [0.5, 0.75],\n",
       "  [0.5, 0.75],\n",
       "  [0.75, 0.9],\n",
       "  [0.75, 0.9],\n",
       "  [0.75, 0.9],\n",
       "  [0.9, 0.95],\n",
       "  [0.0, inf],\n",
       "  [0.5, inf]])"
      ]
     },
     "execution_count": 39,
     "metadata": {},
     "output_type": "execute_result"
    }
   ],
   "source": [
    "persistencePairs(f2,d=4)"
   ]
  },
  {
   "cell_type": "code",
   "execution_count": 37,
   "id": "46c5861e-8f01-45d5-b127-52d32256dc23",
   "metadata": {},
   "outputs": [
    {
     "data": {
      "text/plain": [
       "0.10000000000000005"
      ]
     },
     "execution_count": 37,
     "metadata": {},
     "output_type": "execute_result"
    }
   ],
   "source": [
    "wasserstein1D( f1 , f2 )"
   ]
  },
  {
   "cell_type": "code",
   "execution_count": 33,
   "id": "a8f2101f-193f-489d-8e9c-c7ad70d2296a",
   "metadata": {},
   "outputs": [],
   "source": [
    "filtrations = np.column_stack([f1,f2])"
   ]
  },
  {
   "cell_type": "code",
   "execution_count": 34,
   "id": "aa5a4911-52eb-498b-83b0-af81a6c024e8",
   "metadata": {},
   "outputs": [
    {
     "data": {
      "text/plain": [
       "array([[0.        , 0.07071068],\n",
       "       [0.07071068, 0.        ]])"
      ]
     },
     "execution_count": 34,
     "metadata": {},
     "output_type": "execute_result"
    }
   ],
   "source": [
    "WasDistances(filtrations,d=4, noDiag=True)"
   ]
  },
  {
   "cell_type": "code",
   "execution_count": 40,
   "id": "e8c2e79d-107f-4286-9d15-db790abd9804",
   "metadata": {},
   "outputs": [
    {
     "data": {
      "text/plain": [
       "array([[0.  ],\n",
       "       [0.5 ],\n",
       "       [0.5 ],\n",
       "       [0.75],\n",
       "       [0.5 ],\n",
       "       [0.75],\n",
       "       [0.75],\n",
       "       [0.9 ],\n",
       "       [0.5 ],\n",
       "       [0.75],\n",
       "       [0.75],\n",
       "       [0.9 ],\n",
       "       [0.75],\n",
       "       [0.9 ],\n",
       "       [0.9 ],\n",
       "       [1.  ]])"
      ]
     },
     "execution_count": 40,
     "metadata": {},
     "output_type": "execute_result"
    }
   ],
   "source": [
    "p3 = oas[2].to_pmf(normalize=True)\n",
    "f3 = p3.compute_filtration()\n",
    "f3"
   ]
  },
  {
   "cell_type": "code",
   "execution_count": 41,
   "id": "db840d75-df75-41d8-8e0c-e6d1ef6524be",
   "metadata": {},
   "outputs": [
    {
     "data": {
      "text/plain": [
       "([[2, 3],\n",
       "  [4, 5],\n",
       "  [8, 9],\n",
       "  [6, 7],\n",
       "  [10, 11],\n",
       "  [12, 13],\n",
       "  [14, 15],\n",
       "  [0, inf],\n",
       "  [1, inf]],\n",
       " [[0.5, 0.75],\n",
       "  [0.5, 0.75],\n",
       "  [0.5, 0.75],\n",
       "  [0.75, 0.9],\n",
       "  [0.75, 0.9],\n",
       "  [0.75, 0.9],\n",
       "  [0.9, 1.0],\n",
       "  [0.0, inf],\n",
       "  [0.5, inf]])"
      ]
     },
     "execution_count": 41,
     "metadata": {},
     "output_type": "execute_result"
    }
   ],
   "source": [
    "persistencePairs(f3,d=4)"
   ]
  },
  {
   "cell_type": "code",
   "execution_count": 46,
   "id": "769fbd4d-2d91-4227-b626-6e0f81358274",
   "metadata": {},
   "outputs": [],
   "source": [
    "permutation = np.array((0,1,3,2))"
   ]
  },
  {
   "cell_type": "code",
   "execution_count": 76,
   "id": "3e24c470-deec-44be-8d63-e8a1d84c203d",
   "metadata": {},
   "outputs": [],
   "source": [
    "from statistics.OAIso import applySwapIso, swapIsomorphism\n",
    "from statistics.OAIso import switchIsomorphism"
   ]
  },
  {
   "cell_type": "code",
   "execution_count": 54,
   "id": "f3a1c422-4d9b-4d6f-9b02-49e0db155ca8",
   "metadata": {},
   "outputs": [],
   "source": [
    "d = 4\n",
    "permuted = [swapIsomorphism(k,0,1) for k in range(2**d) ]"
   ]
  },
  {
   "cell_type": "code",
   "execution_count": 91,
   "id": "4d9b1a95-d183-4f7d-b4e5-dfcfbee1a6f2",
   "metadata": {},
   "outputs": [],
   "source": [
    "permuted = [switchIsomorphism(k,2) for k in range(2**d)]"
   ]
  },
  {
   "cell_type": "code",
   "execution_count": 92,
   "id": "8d2c294a-fe04-4766-aa76-5c8b461e5da2",
   "metadata": {},
   "outputs": [
    {
     "data": {
      "text/plain": [
       "array([ 4,  5,  6,  7,  0,  1,  2,  3, 12, 13, 14, 15,  8,  9, 10, 11])"
      ]
     },
     "execution_count": 92,
     "metadata": {},
     "output_type": "execute_result"
    }
   ],
   "source": [
    "permuted = np.array(permuted)\n",
    "permuted"
   ]
  },
  {
   "cell_type": "code",
   "execution_count": 62,
   "id": "88d7e83f-885f-418a-a37f-e87053059d85",
   "metadata": {},
   "outputs": [
    {
     "name": "stdout",
     "output_type": "stream",
     "text": [
      "[[0.15]\n",
      " [0.  ]\n",
      " [0.05]\n",
      " [0.05]\n",
      " [0.  ]\n",
      " [0.1 ]\n",
      " [0.05]\n",
      " [0.1 ]\n",
      " [0.  ]\n",
      " [0.1 ]\n",
      " [0.05]\n",
      " [0.1 ]\n",
      " [0.1 ]\n",
      " [0.05]\n",
      " [0.1 ]\n",
      " [0.  ]]\n"
     ]
    }
   ],
   "source": [
    "p1T = PMF(4,p1.values[permuted])\n",
    "print(p1T)"
   ]
  },
  {
   "cell_type": "code",
   "execution_count": 93,
   "id": "e46878fd-3f2e-4a5e-9aaa-1c9e6b9fd0eb",
   "metadata": {},
   "outputs": [
    {
     "name": "stdout",
     "output_type": "stream",
     "text": [
      "[[0.1 ]\n",
      " [0.1 ]\n",
      " [0.05]\n",
      " [0.  ]\n",
      " [0.  ]\n",
      " [0.05]\n",
      " [0.1 ]\n",
      " [0.1 ]\n",
      " [0.  ]\n",
      " [0.05]\n",
      " [0.1 ]\n",
      " [0.1 ]\n",
      " [0.15]\n",
      " [0.05]\n",
      " [0.  ]\n",
      " [0.05]]\n"
     ]
    }
   ],
   "source": [
    "p1TT = PMF(4,p1TT.values[permuted])\n",
    "print(p1TT)"
   ]
  },
  {
   "cell_type": "code",
   "execution_count": 65,
   "id": "4d2a0a34-0d85-45cf-bb1e-4e4afceb8818",
   "metadata": {},
   "outputs": [
    {
     "data": {
      "text/plain": [
       "array([[0.  ],\n",
       "       [0.5 ],\n",
       "       [0.5 ],\n",
       "       [0.75],\n",
       "       [0.5 ],\n",
       "       [0.75],\n",
       "       [0.75],\n",
       "       [0.9 ],\n",
       "       [0.5 ],\n",
       "       [0.75],\n",
       "       [0.75],\n",
       "       [0.9 ],\n",
       "       [0.75],\n",
       "       [0.95],\n",
       "       [0.9 ],\n",
       "       [1.  ]])"
      ]
     },
     "execution_count": 65,
     "metadata": {},
     "output_type": "execute_result"
    }
   ],
   "source": [
    "f1T = p1T.compute_filtration()\n",
    "f1T"
   ]
  },
  {
   "cell_type": "code",
   "execution_count": 94,
   "id": "f1ee610b-e04d-4dd2-ae14-af6c49f780c9",
   "metadata": {},
   "outputs": [
    {
     "data": {
      "text/plain": [
       "array([[0.  ],\n",
       "       [0.5 ],\n",
       "       [0.5 ],\n",
       "       [0.75],\n",
       "       [0.5 ],\n",
       "       [0.75],\n",
       "       [0.75],\n",
       "       [0.85],\n",
       "       [0.5 ],\n",
       "       [0.75],\n",
       "       [0.75],\n",
       "       [0.85],\n",
       "       [0.75],\n",
       "       [0.9 ],\n",
       "       [0.95],\n",
       "       [0.95]])"
      ]
     },
     "execution_count": 94,
     "metadata": {},
     "output_type": "execute_result"
    }
   ],
   "source": [
    "f1TT = p1TT.compute_filtration()\n",
    "f1TT"
   ]
  },
  {
   "cell_type": "code",
   "execution_count": 69,
   "id": "c1e8e806-cb67-48ac-a02b-21049464c390",
   "metadata": {},
   "outputs": [
    {
     "data": {
      "text/plain": [
       "array([[0., 0.],\n",
       "       [0., 0.]])"
      ]
     },
     "execution_count": 69,
     "metadata": {},
     "output_type": "execute_result"
    }
   ],
   "source": [
    "WasDistances( np.column_stack([f1,f1T]), d=4 )"
   ]
  },
  {
   "cell_type": "code",
   "execution_count": 74,
   "id": "262dcc9b-8671-4875-8ed9-4e543a77d5cc",
   "metadata": {},
   "outputs": [
    {
     "data": {
      "text/plain": [
       "0.0"
      ]
     },
     "execution_count": 74,
     "metadata": {},
     "output_type": "execute_result"
    }
   ],
   "source": [
    "wasserstein1D(p1.values,p1T.values)"
   ]
  },
  {
   "cell_type": "code",
   "execution_count": 75,
   "id": "4170a32c-dacd-4eab-8631-aaacfec947cd",
   "metadata": {},
   "outputs": [
    {
     "name": "stdout",
     "output_type": "stream",
     "text": [
      "[[0.15]\n",
      " [0.  ]\n",
      " [0.05]\n",
      " [0.05]\n",
      " [0.  ]\n",
      " [0.1 ]\n",
      " [0.05]\n",
      " [0.1 ]\n",
      " [0.  ]\n",
      " [0.1 ]\n",
      " [0.05]\n",
      " [0.1 ]\n",
      " [0.1 ]\n",
      " [0.05]\n",
      " [0.1 ]\n",
      " [0.  ]]\n"
     ]
    }
   ],
   "source": [
    "print(p1T)"
   ]
  },
  {
   "cell_type": "code",
   "execution_count": null,
   "id": "e2c0e9a9-611e-48f3-b7a6-8c45221457de",
   "metadata": {},
   "outputs": [],
   "source": []
  }
 ],
 "metadata": {
  "kernelspec": {
   "display_name": "Python 3 (ipykernel)",
   "language": "python",
   "name": "python3"
  },
  "language_info": {
   "codemirror_mode": {
    "name": "ipython",
    "version": 3
   },
   "file_extension": ".py",
   "mimetype": "text/x-python",
   "name": "python",
   "nbconvert_exporter": "python",
   "pygments_lexer": "ipython3",
   "version": "3.9.13"
  }
 },
 "nbformat": 4,
 "nbformat_minor": 5
}
