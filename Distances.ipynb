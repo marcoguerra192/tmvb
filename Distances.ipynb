{
 "cells": [
  {
   "cell_type": "code",
   "execution_count": 5,
   "id": "39eeea52-b056-4a30-ad7b-9ff75d3e98a0",
   "metadata": {},
   "outputs": [
    {
     "name": "stdout",
     "output_type": "stream",
     "text": [
      "The autoreload extension is already loaded. To reload it, use:\n",
      "  %reload_ext autoreload\n"
     ]
    }
   ],
   "source": [
    "%load_ext autoreload\n",
    "%autoreload 2"
   ]
  },
  {
   "cell_type": "code",
   "execution_count": 6,
   "id": "ed801d17-2edb-47aa-8f77-fd3661b9fb02",
   "metadata": {},
   "outputs": [],
   "source": [
    "import numpy as np\n",
    "from statistics.pmf import PMF\n",
    "from statistics.OA import OA, genOA, genFiltrations\n",
    "from statistics.OAIso import allIsomorphisms\n",
    "from persistence.pers import compute_perm_classes, persistencePairs, WasDistances, BotDistances, L2Distances, AvgDistances, DistancesDistr, wassersteinDistanceDiags\n",
    "#from geometry.polytope import Polytope, computePolytope\n",
    "#from geometry.polytope import conditionsOA3, conditionsOA4, conditionsOA5\n",
    "\n",
    "from scipy.spatial import distance_matrix\n",
    "import matplotlib.pyplot as plt"
   ]
  },
  {
   "cell_type": "code",
   "execution_count": 3,
   "id": "186f1e2c-644f-464c-82e9-b19e237272f7",
   "metadata": {},
   "outputs": [
    {
     "ename": "NameError",
     "evalue": "name 'conditionsOA3' is not defined",
     "output_type": "error",
     "traceback": [
      "\u001b[0;31m---------------------------------------------------------------------------\u001b[0m",
      "\u001b[0;31mNameError\u001b[0m                                 Traceback (most recent call last)",
      "Cell \u001b[0;32mIn [3], line 1\u001b[0m\n\u001b[0;32m----> 1\u001b[0m conditions \u001b[38;5;241m=\u001b[39m { \u001b[38;5;241m3\u001b[39m : \u001b[43mconditionsOA3\u001b[49m , \u001b[38;5;241m4\u001b[39m : conditionsOA4 , \u001b[38;5;241m5\u001b[39m : conditionsOA5}\n",
      "\u001b[0;31mNameError\u001b[0m: name 'conditionsOA3' is not defined"
     ]
    }
   ],
   "source": [
    "conditions = { 3 : conditionsOA3 , 4 : conditionsOA4 , 5 : conditionsOA5}"
   ]
  },
  {
   "cell_type": "code",
   "execution_count": 5,
   "id": "d1c45337-bcc1-4ecc-b24b-024cac869258",
   "metadata": {},
   "outputs": [],
   "source": [
    "NSwitches = 3"
   ]
  },
  {
   "cell_type": "code",
   "execution_count": 5,
   "id": "356715dd-22a2-4236-b491-b1825921f675",
   "metadata": {},
   "outputs": [],
   "source": [
    "resultPmf = []\n",
    "NResamples = 3\n",
    "\n",
    "for d in [3]:\n",
    "    for N in [20]:\n",
    "        \n",
    "        OAF = []\n",
    "        \n",
    "        cond = conditions[d]\n",
    "        ptp = computePolytope(d , cond)\n",
    "        rays = ptp.Rays\n",
    "        \n",
    "        oas , _ , _ = genOA(N,d)\n",
    "        \n",
    "        for oa in oas:\n",
    "            OAF.append(oa)\n",
    "            for _ in range(NResamples):\n",
    "                OAF.append(oa.randSwitchIsomorphism(2, canonical=True))\n",
    "                \n",
    "        pmfs = [arr.to_pmf(normalize=True).values for arr in OAF ]\n",
    "        pmfs = np.column_stack(pmfs)\n",
    "        \n",
    "        distancesPmf = distance_matrix(pmfs, pmfs, 2)\n",
    "        distancesRays = distance_matrix(rays, rays, 2)\n",
    "        \n",
    "        AvgInPmf , _ = AvgDistances(distancesPmf, NSwitches+1)\n",
    "        AvgRays = np.mean(np.ravel(distancesRays))\n",
    "        \n",
    "        resultPmf.append( ( \"( {} , {} )\".format(N,d) , AvgInPmf , AvgRays ) )"
   ]
  },
  {
   "cell_type": "code",
   "execution_count": 6,
   "id": "80e80407-972e-4cdb-ae9d-0187761dd49b",
   "metadata": {},
   "outputs": [
    {
     "data": {
      "text/plain": [
       "[('( 20 , 3 )', 0.3944053188733077, 0.1767766952966369)]"
      ]
     },
     "execution_count": 6,
     "metadata": {},
     "output_type": "execute_result"
    }
   ],
   "source": [
    "resultPmf"
   ]
  },
  {
   "cell_type": "code",
   "execution_count": 7,
   "id": "65d2f822-5bb3-40bf-a1ec-2765a1fe3124",
   "metadata": {},
   "outputs": [],
   "source": [
    "resultWas = []\n",
    "NResamples = 3\n",
    "\n",
    "for d in [3,4,5]:\n",
    "    for N in [20,24]:\n",
    "        \n",
    "        OAF = []\n",
    "        \n",
    "        oas , _ , _ = genOA(N,d)\n",
    "        \n",
    "        for oa in oas:\n",
    "            OAF.append(oa)\n",
    "            for _ in range(NResamples):\n",
    "                OAF.append(oa.randSwitchIsomorphism(2, canonical=True))\n",
    "                \n",
    "        filts = [arr.to_pmf(normalize=True).compute_filtration() for arr in OAF ]\n",
    "        filts = np.column_stack(filts)\n",
    "        \n",
    "        \n",
    "        dist = WasDistances(filts , d)\n",
    "\n",
    "        \n",
    "        AvgInWas , AvgOutWas = AvgDistances(dist, NSwitches+1)\n",
    "        \n",
    "        resultWas.append( ( \"( {} , {} )\".format(N,d) , AvgInWas , AvgOutWas ) )"
   ]
  },
  {
   "cell_type": "code",
   "execution_count": 8,
   "id": "3ca4663d-62c0-4dfb-81ff-f9c1a08bac2b",
   "metadata": {},
   "outputs": [
    {
     "data": {
      "text/plain": [
       "[('( 20 , 3 )', 0.0, 0.06666666666666665),\n",
       " ('( 24 , 3 )', 0.0, 0.0694444444444439),\n",
       " ('( 20 , 4 )', 0.01666666666666686, 0.07458122890254891),\n",
       " ('( 24 , 4 )', 0.0, 0.08235289397866158),\n",
       " ('( 20 , 5 )', 0.06558876095930063, 0.1663092879996761),\n",
       " ('( 24 , 5 )', 0.03764571483980744, 0.17515737572947163)]"
      ]
     },
     "execution_count": 8,
     "metadata": {},
     "output_type": "execute_result"
    }
   ],
   "source": [
    "resultWas"
   ]
  },
  {
   "cell_type": "markdown",
   "id": "9b16af94-b14a-4268-b1f4-776333288681",
   "metadata": {},
   "source": [
    "## Bottleneck distances"
   ]
  },
  {
   "cell_type": "code",
   "execution_count": 14,
   "id": "7a87c4a6-f38e-453b-a2bb-9bff60d1c925",
   "metadata": {},
   "outputs": [],
   "source": [
    "resultBot = []\n",
    "NResamples = 3\n",
    "\n",
    "for d in [3,4,5]:\n",
    "    for N in [20,24]:\n",
    "        \n",
    "        OAF = []\n",
    "        \n",
    "        oas , _ , _ = genOA(N,d)\n",
    "        \n",
    "        for oa in oas:\n",
    "            OAF.append(oa)\n",
    "            for _ in range(NResamples):\n",
    "                OAF.append(oa.randSwitchIsomorphism(2, canonical=True))\n",
    "                \n",
    "        filts = [arr.to_pmf(normalize=True).compute_filtration() for arr in OAF ]\n",
    "        filts = np.column_stack(filts)\n",
    "        \n",
    "        \n",
    "        dist = BotDistances(filts , d)\n",
    "\n",
    "        \n",
    "        AvgInBot , AvgOutBot = AvgDistances(dist, NSwitches+1)\n",
    "        \n",
    "        resultBot.append( ( \"( {} , {} )\".format(N,d) , AvgInBot , AvgOutBot ) )"
   ]
  },
  {
   "cell_type": "code",
   "execution_count": 16,
   "id": "76cbc96e-2407-4419-a32e-0cf7ab5a9621",
   "metadata": {},
   "outputs": [
    {
     "data": {
      "text/plain": [
       "[('( 20 , 3 )', 0.0, 0.06666666666666664),\n",
       " ('( 24 , 3 )', 0.0, 0.06944444444444449),\n",
       " ('( 20 , 4 )', 0.01111111111111112, 0.041666666666666685),\n",
       " ('( 24 , 4 )', 0.0, 0.03148148148148145),\n",
       " ('( 20 , 5 )', 0.018181818181818184, 0.04710227272727238),\n",
       " ('( 24 , 5 )', 0.009810405643738952, 0.04063860087045813)]"
      ]
     },
     "execution_count": 16,
     "metadata": {},
     "output_type": "execute_result"
    }
   ],
   "source": [
    "resultBot"
   ]
  },
  {
   "cell_type": "code",
   "execution_count": 9,
   "id": "764b9b3c-0942-4e7c-a374-c400d9e0fb63",
   "metadata": {},
   "outputs": [],
   "source": [
    "res = np.load('resultWas.npy')"
   ]
  },
  {
   "cell_type": "code",
   "execution_count": 23,
   "id": "42f48700-9b2e-4cbd-8224-b52ce88c2639",
   "metadata": {},
   "outputs": [
    {
     "data": {
      "text/plain": [
       "array([[0.        , 0.06666667],\n",
       "       [0.        , 0.06944444],\n",
       "       [0.009319  , 0.07667214],\n",
       "       [0.        , 0.08235289],\n",
       "       [0.05344277, 0.1591138 ],\n",
       "       [0.03319784, 0.17521031]])"
      ]
     },
     "execution_count": 23,
     "metadata": {},
     "output_type": "execute_result"
    }
   ],
   "source": [
    "res[:,2:4].astype(float)"
   ]
  },
  {
   "cell_type": "markdown",
   "id": "8a37d550-6ff8-4db2-8136-4ee0296a6283",
   "metadata": {},
   "source": [
    "## Prova"
   ]
  },
  {
   "cell_type": "code",
   "execution_count": 30,
   "id": "c7b5578e-9451-4617-af0b-8c2b60f11e1f",
   "metadata": {},
   "outputs": [],
   "source": [
    "OAF = []\n",
    "NResamples = 10\n",
    "d = 5\n",
    "N = 20\n",
    "\n",
    "oas , _ , _ = genOA(N,d)\n",
    "\n",
    "for oa in oas:\n",
    "    OAF.append(oa)\n",
    "    for _ in range(NResamples):\n",
    "        OAF.append(oa.randSwitchIsomorphism(2, canonical=True))\n",
    "        \n",
    "        \n",
    "pmfs = [arr.to_pmf(normalize=True).values for arr in OAF ]\n",
    "pmfs = np.column_stack(pmfs)\n",
    "\n",
    "filts = [arr.to_pmf(normalize=True).compute_filtration() for arr in OAF ]\n",
    "filts = np.column_stack(filts)\n",
    "\n",
    "\n",
    "dist = WasDistances(filts , d, noDiag=True)"
   ]
  },
  {
   "cell_type": "code",
   "execution_count": 31,
   "id": "9de112ec-2126-42bc-8292-92f8673a6451",
   "metadata": {},
   "outputs": [],
   "source": [
    "InDist, OutDist = DistancesDistr(dist, NResamples + 1)"
   ]
  },
  {
   "cell_type": "code",
   "execution_count": 38,
   "id": "ba9b4fc6-1dea-4e96-99d1-df20c6123910",
   "metadata": {},
   "outputs": [
    {
     "data": {
      "text/plain": [
       "<matplotlib.legend.Legend at 0x7fd947f354c0>"
      ]
     },
     "execution_count": 38,
     "metadata": {},
     "output_type": "execute_result"
    },
    {
     "data": {
      "image/png": "[encoded data removed]",
      "text/plain": [
       "<Figure size 640x480 with 1 Axes>"
      ]
     },
     "metadata": {},
     "output_type": "display_data"
    }
   ],
   "source": [
    "plt.hist(InDist, alpha=0.9, label='In');\n",
    "plt.hist(OutDist, alpha=0.5, label='Out');\n",
    "plt.legend()"
   ]
  },
  {
   "cell_type": "code",
   "execution_count": null,
   "id": "d8766309-468a-45ef-a804-c9b2bd0ab8a8",
   "metadata": {},
   "outputs": [],
   "source": [
    "WasDistances"
   ]
  },
  {
   "cell_type": "code",
   "execution_count": 33,
   "id": "81c8435c-2dbe-4762-9979-c8514d8c6c0e",
   "metadata": {},
   "outputs": [],
   "source": [
    "smallvals = [x for x in OutDist if x < 0.001 ]"
   ]
  },
  {
   "cell_type": "code",
   "execution_count": 34,
   "id": "1a41d639-de08-4278-971e-e25b2a03691d",
   "metadata": {},
   "outputs": [
    {
     "data": {
      "text/plain": [
       "6655"
      ]
     },
     "execution_count": 34,
     "metadata": {},
     "output_type": "execute_result"
    }
   ],
   "source": [
    "len(OutDist)"
   ]
  },
  {
   "cell_type": "code",
   "execution_count": 35,
   "id": "24749edb-5ae0-4ead-9d44-39de79ed9b8a",
   "metadata": {},
   "outputs": [
    {
     "data": {
      "text/plain": [
       "30"
      ]
     },
     "execution_count": 35,
     "metadata": {},
     "output_type": "execute_result"
    }
   ],
   "source": [
    "len(smallvals)"
   ]
  },
  {
   "cell_type": "code",
   "execution_count": 36,
   "id": "2e0a9446-674b-4e07-abe2-eb0232abcd17",
   "metadata": {
    "collapsed": true,
    "jupyter": {
     "outputs_hidden": true
    },
    "tags": []
   },
   "outputs": [
    {
     "data": {
      "text/plain": [
       "[0.0,\n",
       " 0.0,\n",
       " 0.0,\n",
       " 0.0,\n",
       " 0.0,\n",
       " 0.0,\n",
       " 0.0,\n",
       " 0.0,\n",
       " 0.0,\n",
       " 0.0,\n",
       " 0.0,\n",
       " 0.0,\n",
       " 0.0,\n",
       " 0.0,\n",
       " 0.0,\n",
       " 0.0,\n",
       " 0.0,\n",
       " 0.0,\n",
       " 0.0,\n",
       " 0.0,\n",
       " 0.0,\n",
       " 0.0,\n",
       " 0.0,\n",
       " 0.0,\n",
       " 0.0,\n",
       " 0.0,\n",
       " 0.0,\n",
       " 0.0,\n",
       " 0.0,\n",
       " 0.0]"
      ]
     },
     "execution_count": 36,
     "metadata": {},
     "output_type": "execute_result"
    }
   ],
   "source": [
    "smallvals"
   ]
  },
  {
   "cell_type": "code",
   "execution_count": 7,
   "id": "d23ba726-0bd7-4d0b-96f8-2f8fe937c3d0",
   "metadata": {},
   "outputs": [],
   "source": [
    "oas , _ , _ = genOA(20,3)"
   ]
  },
  {
   "cell_type": "code",
   "execution_count": 11,
   "id": "28ca9cb5-670e-42df-916b-f0b2c0907043",
   "metadata": {},
   "outputs": [],
   "source": [
    "OAF = []\n",
    "for oa in oas:\n",
    "    OAF.append(oa)\n",
    "    for _ in range(5):\n",
    "        OAF.append(oa.randSwitchIsomorphism(2, canonical=True))"
   ]
  },
  {
   "cell_type": "code",
   "execution_count": 12,
   "id": "18c546c4-a0da-41e7-819f-b4323e5f4899",
   "metadata": {},
   "outputs": [
    {
     "data": {
      "text/plain": [
       "[<statistics.OA.OA at 0x7fec439dff10>,\n",
       " <statistics.OA.OA at 0x7fec439aab20>,\n",
       " <statistics.OA.OA at 0x7fec439aa940>,\n",
       " <statistics.OA.OA at 0x7fec439aa220>,\n",
       " <statistics.OA.OA at 0x7fec439aae80>,\n",
       " <statistics.OA.OA at 0x7fec439aa2e0>,\n",
       " <statistics.OA.OA at 0x7fec439df8b0>,\n",
       " <statistics.OA.OA at 0x7fec439aae50>,\n",
       " <statistics.OA.OA at 0x7fec439aa730>,\n",
       " <statistics.OA.OA at 0x7fec439aa580>,\n",
       " <statistics.OA.OA at 0x7fec439aa7f0>,\n",
       " <statistics.OA.OA at 0x7fec439aad90>,\n",
       " <statistics.OA.OA at 0x7fec439dfc40>,\n",
       " <statistics.OA.OA at 0x7fec439aac40>,\n",
       " <statistics.OA.OA at 0x7fec439aaeb0>,\n",
       " <statistics.OA.OA at 0x7fec439aa8b0>,\n",
       " <statistics.OA.OA at 0x7fec439aa0d0>,\n",
       " <statistics.OA.OA at 0x7fec439aaa60>]"
      ]
     },
     "execution_count": 12,
     "metadata": {},
     "output_type": "execute_result"
    }
   ],
   "source": [
    "OAF"
   ]
  },
  {
   "cell_type": "code",
   "execution_count": 13,
   "id": "2537dbb4-4b84-42bb-ab62-6d3e99ed0104",
   "metadata": {},
   "outputs": [],
   "source": [
    "pmfs = [arr.to_pmf(normalize=True).values for arr in OAF ]\n",
    "pmfs = np.column_stack(pmfs)"
   ]
  },
  {
   "cell_type": "code",
   "execution_count": 23,
   "id": "d6478cd9-1eba-4506-b017-e5e40a2196a0",
   "metadata": {},
   "outputs": [
    {
     "data": {
      "text/plain": [
       "(18, 18)"
      ]
     },
     "execution_count": 23,
     "metadata": {},
     "output_type": "execute_result"
    }
   ],
   "source": [
    "L2dist = L2Distances(pmfs,3)\n",
    "L2dist.shape"
   ]
  },
  {
   "cell_type": "code",
   "execution_count": 27,
   "id": "84631955-4a3d-44f8-8625-83f33abfe3e8",
   "metadata": {},
   "outputs": [],
   "source": [
    "indist, outdist = DistancesDistr(L2dist, 6)\n"
   ]
  },
  {
   "cell_type": "code",
   "execution_count": 29,
   "id": "cd7f19ff-cc93-4a14-b381-d4922909b145",
   "metadata": {},
   "outputs": [
    {
     "data": {
      "image/png": "[encoded data removed]",
      "text/plain": [
       "<Figure size 640x480 with 1 Axes>"
      ]
     },
     "metadata": {},
     "output_type": "display_data"
    }
   ],
   "source": [
    "plt.hist(indist, alpha=0.9);\n",
    "plt.hist(outdist, alpha=0.5);"
   ]
  },
  {
   "cell_type": "code",
   "execution_count": 10,
   "id": "703ffa17-9ec7-4302-b828-103fc259e32d",
   "metadata": {},
   "outputs": [
    {
     "data": {
      "text/plain": [
       "(8, 12)"
      ]
     },
     "execution_count": 10,
     "metadata": {},
     "output_type": "execute_result"
    }
   ],
   "source": [
    "pmfs.shape"
   ]
  },
  {
   "cell_type": "code",
   "execution_count": 14,
   "id": "af6fbea1-a839-48d9-93bb-12b557d6ddf9",
   "metadata": {},
   "outputs": [],
   "source": [
    "dist = distance_matrix(pmfs.T, pmfs.T)"
   ]
  },
  {
   "cell_type": "code",
   "execution_count": 15,
   "id": "6abf6111-31f2-4647-85d0-48e9016a7860",
   "metadata": {},
   "outputs": [
    {
     "data": {
      "text/plain": [
       "(12, 12)"
      ]
     },
     "execution_count": 15,
     "metadata": {},
     "output_type": "execute_result"
    }
   ],
   "source": [
    "dist.shape"
   ]
  },
  {
   "cell_type": "code",
   "execution_count": 5,
   "id": "98ffbb47-f3d5-47ce-8b6e-ddee89bd621f",
   "metadata": {},
   "outputs": [],
   "source": [
    "oas, _ , _ = genOA(20,4)"
   ]
  },
  {
   "cell_type": "code",
   "execution_count": 62,
   "id": "cb8ca438-6557-4cf8-8bf6-46e61b82f15c",
   "metadata": {},
   "outputs": [
    {
     "data": {
      "text/plain": [
       "[<statistics.OA.OA at 0x7effc41fa250>,\n",
       " <statistics.OA.OA at 0x7effc426e190>,\n",
       " <statistics.OA.OA at 0x7effc4206160>]"
      ]
     },
     "execution_count": 62,
     "metadata": {},
     "output_type": "execute_result"
    }
   ],
   "source": []
  },
  {
   "cell_type": "code",
   "execution_count": 61,
   "id": "be5096ee-d57b-4c9c-bc6b-c19902174d7a",
   "metadata": {},
   "outputs": [
    {
     "name": "stdout",
     "output_type": "stream",
     "text": [
      "[[0 0 0 0]\n",
      " [0 0 0 0]\n",
      " [0 0 0 0]\n",
      " [0 0 0 1]\n",
      " [0 0 1 1]\n",
      " [0 1 0 1]\n",
      " [0 1 1 0]\n",
      " [0 1 1 0]\n",
      " [0 1 1 1]\n",
      " [0 1 1 1]\n",
      " [1 0 0 1]\n",
      " [1 0 1 0]\n",
      " [1 0 1 0]\n",
      " [1 0 1 1]\n",
      " [1 0 1 1]\n",
      " [1 1 0 0]\n",
      " [1 1 0 0]\n",
      " [1 1 0 1]\n",
      " [1 1 0 1]\n",
      " [1 1 1 0]] \n",
      " [[0 0 0 0]\n",
      " [0 0 0 0]\n",
      " [0 0 0 0]\n",
      " [0 0 1 1]\n",
      " [0 0 1 1]\n",
      " [0 1 0 1]\n",
      " [0 1 0 1]\n",
      " [0 1 1 0]\n",
      " [0 1 1 0]\n",
      " [0 1 1 1]\n",
      " [1 0 0 1]\n",
      " [1 0 0 1]\n",
      " [1 0 1 0]\n",
      " [1 0 1 0]\n",
      " [1 0 1 1]\n",
      " [1 1 0 0]\n",
      " [1 1 0 0]\n",
      " [1 1 0 1]\n",
      " [1 1 1 0]\n",
      " [1 1 1 1]] \n",
      " [[0 0 0 0]\n",
      " [0 0 0 0]\n",
      " [0 0 0 1]\n",
      " [0 0 1 0]\n",
      " [0 0 1 1]\n",
      " [0 1 0 0]\n",
      " [0 1 0 1]\n",
      " [0 1 1 0]\n",
      " [0 1 1 1]\n",
      " [0 1 1 1]\n",
      " [1 0 0 0]\n",
      " [1 0 0 1]\n",
      " [1 0 1 0]\n",
      " [1 0 1 1]\n",
      " [1 0 1 1]\n",
      " [1 1 0 0]\n",
      " [1 1 0 1]\n",
      " [1 1 0 1]\n",
      " [1 1 1 0]\n",
      " [1 1 1 0]]\n"
     ]
    }
   ],
   "source": [
    "print(oas[0], '\\n', oas[1], '\\n',oas[2])"
   ]
  },
  {
   "cell_type": "code",
   "execution_count": 91,
   "id": "4d76121a-7439-49b4-93b6-4bc664c58672",
   "metadata": {},
   "outputs": [],
   "source": [
    "OAF = []\n",
    "switches = []\n",
    "for oa in oas:\n",
    "    OAF.append(oa)\n",
    "    switches.append( [] )\n",
    "    for _ in range(3):\n",
    "        newOA, cols = oa.randSwitchIsomorphism(3, canonical=True, returnSwitch=True)\n",
    "        OAF.append(newOA)\n",
    "        switches.append(cols)"
   ]
  },
  {
   "cell_type": "code",
   "execution_count": 92,
   "id": "a6622e92-2017-4982-b0e2-7150ae9b0449",
   "metadata": {},
   "outputs": [],
   "source": [
    "switches = [ list(sorted(s)) for s in switches ]\n",
    "        "
   ]
  },
  {
   "cell_type": "code",
   "execution_count": 93,
   "id": "9e629944-aa9d-4558-a851-d123cf6de895",
   "metadata": {},
   "outputs": [
    {
     "data": {
      "text/plain": [
       "[[],\n",
       " [1, 2, 3],\n",
       " [1, 2, 3],\n",
       " [0, 1, 3],\n",
       " [],\n",
       " [0, 1, 3],\n",
       " [0, 2, 3],\n",
       " [1, 2, 3],\n",
       " [],\n",
       " [0, 2, 3],\n",
       " [0, 1, 2],\n",
       " [1, 2, 3]]"
      ]
     },
     "execution_count": 93,
     "metadata": {},
     "output_type": "execute_result"
    }
   ],
   "source": [
    "switches"
   ]
  },
  {
   "cell_type": "code",
   "execution_count": 94,
   "id": "921244af-cc15-4dcd-b932-f780b21028e8",
   "metadata": {},
   "outputs": [],
   "source": [
    "filts = [arr.to_pmf(normalize=True).compute_filtration() for arr in OAF ]\n",
    "filts = np.column_stack(filts)"
   ]
  },
  {
   "cell_type": "code",
   "execution_count": 95,
   "id": "e2d19fdd-07e0-4c4d-a10c-9e3c3c8e0fea",
   "metadata": {},
   "outputs": [],
   "source": [
    "dist = WasDistances(filts , 4)"
   ]
  },
  {
   "cell_type": "code",
   "execution_count": 96,
   "id": "53205544-f3dd-4ff2-b7b6-710fc95be93b",
   "metadata": {},
   "outputs": [
    {
     "data": {
      "text/plain": [
       "<matplotlib.image.AxesImage at 0x7f6bd7a9c0d0>"
      ]
     },
     "execution_count": 96,
     "metadata": {},
     "output_type": "execute_result"
    },
    {
     "data": {
      "image/png": "[encoded data removed]",
      "text/plain": [
       "<Figure size 640x480 with 1 Axes>"
      ]
     },
     "metadata": {},
     "output_type": "display_data"
    }
   ],
   "source": [
    "plt.imshow(dist)"
   ]
  },
  {
   "cell_type": "code",
   "execution_count": 69,
   "id": "b1b66a70-f7d4-44e5-aad3-fa2a2cbd4810",
   "metadata": {},
   "outputs": [
    {
     "data": {
      "text/plain": [
       "array([[0.        , 0.        , 0.        , 0.        , 0.07071068,\n",
       "        0.07071068, 0.07071068, 0.07071068, 0.05      , 0.12071068,\n",
       "        0.12071068, 0.05      ],\n",
       "       [0.        , 0.        , 0.        , 0.        , 0.07071068,\n",
       "        0.07071068, 0.07071068, 0.07071068, 0.05      , 0.12071068,\n",
       "        0.12071068, 0.05      ],\n",
       "       [0.        , 0.        , 0.        , 0.        , 0.07071068,\n",
       "        0.07071068, 0.07071068, 0.07071068, 0.05      , 0.12071068,\n",
       "        0.12071068, 0.05      ],\n",
       "       [0.        , 0.        , 0.        , 0.        , 0.07071068,\n",
       "        0.07071068, 0.07071068, 0.07071068, 0.05      , 0.12071068,\n",
       "        0.12071068, 0.05      ],\n",
       "       [0.07071068, 0.07071068, 0.07071068, 0.07071068, 0.        ,\n",
       "        0.        , 0.        , 0.        , 0.05      , 0.05      ,\n",
       "        0.05      , 0.05      ],\n",
       "       [0.07071068, 0.07071068, 0.07071068, 0.07071068, 0.        ,\n",
       "        0.        , 0.        , 0.        , 0.05      , 0.05      ,\n",
       "        0.05      , 0.05      ],\n",
       "       [0.07071068, 0.07071068, 0.07071068, 0.07071068, 0.        ,\n",
       "        0.        , 0.        , 0.        , 0.05      , 0.05      ,\n",
       "        0.05      , 0.05      ],\n",
       "       [0.07071068, 0.07071068, 0.07071068, 0.07071068, 0.        ,\n",
       "        0.        , 0.        , 0.        , 0.05      , 0.05      ,\n",
       "        0.05      , 0.05      ],\n",
       "       [0.05      , 0.05      , 0.05      , 0.05      , 0.05      ,\n",
       "        0.05      , 0.05      , 0.05      , 0.        , 0.1       ,\n",
       "        0.1       , 0.        ],\n",
       "       [0.12071068, 0.12071068, 0.12071068, 0.12071068, 0.05      ,\n",
       "        0.05      , 0.05      , 0.05      , 0.1       , 0.        ,\n",
       "        0.        , 0.1       ],\n",
       "       [0.12071068, 0.12071068, 0.12071068, 0.12071068, 0.05      ,\n",
       "        0.05      , 0.05      , 0.05      , 0.1       , 0.        ,\n",
       "        0.        , 0.1       ],\n",
       "       [0.05      , 0.05      , 0.05      , 0.05      , 0.05      ,\n",
       "        0.05      , 0.05      , 0.05      , 0.        , 0.1       ,\n",
       "        0.1       , 0.        ]])"
      ]
     },
     "execution_count": 69,
     "metadata": {},
     "output_type": "execute_result"
    }
   ],
   "source": [
    "dist"
   ]
  },
  {
   "cell_type": "code",
   "execution_count": 78,
   "id": "d65d5580-a20a-41cc-a81b-6166f336d639",
   "metadata": {},
   "outputs": [
    {
     "name": "stdout",
     "output_type": "stream",
     "text": [
      "[[0 1 1 1]\n",
      " [0 1 1 1]\n",
      " [0 1 1 0]\n",
      " [0 1 0 1]\n",
      " [0 1 0 0]\n",
      " [0 0 1 1]\n",
      " [0 0 1 0]\n",
      " [0 0 0 1]\n",
      " [0 0 0 0]\n",
      " [0 0 0 0]\n",
      " [1 1 1 1]\n",
      " [1 1 1 0]\n",
      " [1 1 0 1]\n",
      " [1 1 0 0]\n",
      " [1 1 0 0]\n",
      " [1 0 1 1]\n",
      " [1 0 1 0]\n",
      " [1 0 1 0]\n",
      " [1 0 0 1]\n",
      " [1 0 0 1]]\n"
     ]
    }
   ],
   "source": [
    "print(OAF[-3])"
   ]
  },
  {
   "cell_type": "code",
   "execution_count": 73,
   "id": "d3c22f4a-c6cd-4b7a-bfdf-7ae29a910b96",
   "metadata": {},
   "outputs": [
    {
     "name": "stdout",
     "output_type": "stream",
     "text": [
      "[[1 1 0 1]\n",
      " [1 1 0 1]\n",
      " [1 1 0 0]\n",
      " [1 1 1 1]\n",
      " [1 1 1 0]\n",
      " [1 0 0 1]\n",
      " [1 0 0 0]\n",
      " [1 0 1 1]\n",
      " [1 0 1 0]\n",
      " [1 0 1 0]\n",
      " [0 1 0 1]\n",
      " [0 1 0 0]\n",
      " [0 1 1 1]\n",
      " [0 1 1 0]\n",
      " [0 1 1 0]\n",
      " [0 0 0 1]\n",
      " [0 0 0 0]\n",
      " [0 0 0 0]\n",
      " [0 0 1 1]\n",
      " [0 0 1 1]]\n"
     ]
    }
   ],
   "source": [
    "print(OAF[-2])"
   ]
  },
  {
   "cell_type": "code",
   "execution_count": 74,
   "id": "577db4bc-eb1d-4114-b607-7274f81cc677",
   "metadata": {},
   "outputs": [
    {
     "name": "stdout",
     "output_type": "stream",
     "text": [
      "[[0 1 1 1]\n",
      " [0 1 1 1]\n",
      " [0 1 1 0]\n",
      " [0 1 0 1]\n",
      " [0 1 0 0]\n",
      " [0 0 1 1]\n",
      " [0 0 1 0]\n",
      " [0 0 0 1]\n",
      " [0 0 0 0]\n",
      " [0 0 0 0]\n",
      " [1 1 1 1]\n",
      " [1 1 1 0]\n",
      " [1 1 0 1]\n",
      " [1 1 0 0]\n",
      " [1 1 0 0]\n",
      " [1 0 1 1]\n",
      " [1 0 1 0]\n",
      " [1 0 1 0]\n",
      " [1 0 0 1]\n",
      " [1 0 0 1]]\n"
     ]
    }
   ],
   "source": [
    "print(OAF[-3])"
   ]
  },
  {
   "cell_type": "markdown",
   "id": "1a4fd789-9a59-4016-9140-2c91bceedf67",
   "metadata": {},
   "source": [
    "# here"
   ]
  },
  {
   "cell_type": "code",
   "execution_count": 97,
   "id": "cc7c2493-7f49-49bc-b6e7-c36cec2ddc51",
   "metadata": {},
   "outputs": [],
   "source": [
    "pmf8 = OAF[8].to_pmf(normalize=True)\n",
    "pmf9 = OAF[9].to_pmf(normalize=True)\n",
    "pmf10 = OAF[10].to_pmf(normalize=True)\n",
    "pmf11 = OAF[11].to_pmf(normalize=True)"
   ]
  },
  {
   "cell_type": "code",
   "execution_count": 98,
   "id": "4075ebf1-f12f-4c34-9fdb-f6732b40065b",
   "metadata": {},
   "outputs": [],
   "source": [
    "filt8 = pmf8.compute_filtration()\n",
    "filt9 = pmf9.compute_filtration()\n",
    "filt10 = pmf10.compute_filtration()\n",
    "filt11 = pmf11.compute_filtration()"
   ]
  },
  {
   "cell_type": "code",
   "execution_count": 99,
   "id": "6617c840-37e6-4176-ac5f-79243a88ee20",
   "metadata": {},
   "outputs": [
    {
     "data": {
      "text/plain": [
       "array([[0.  ],\n",
       "       [0.5 ],\n",
       "       [0.5 ],\n",
       "       [0.75],\n",
       "       [0.5 ],\n",
       "       [0.75],\n",
       "       [0.75],\n",
       "       [0.9 ],\n",
       "       [0.5 ],\n",
       "       [0.75],\n",
       "       [0.75],\n",
       "       [0.9 ],\n",
       "       [0.75],\n",
       "       [0.9 ],\n",
       "       [0.9 ],\n",
       "       [1.  ]])"
      ]
     },
     "execution_count": 99,
     "metadata": {},
     "output_type": "execute_result"
    }
   ],
   "source": [
    "filt8"
   ]
  },
  {
   "cell_type": "code",
   "execution_count": 100,
   "id": "54eee411-a93d-49ff-8355-745043c65d68",
   "metadata": {},
   "outputs": [
    {
     "data": {
      "text/plain": [
       "([[2, 3],\n",
       "  [4, 5],\n",
       "  [8, 9],\n",
       "  [6, 7],\n",
       "  [10, 11],\n",
       "  [12, 13],\n",
       "  [14, 15],\n",
       "  [0, inf],\n",
       "  [1, inf]],\n",
       " [[0.5, 0.75],\n",
       "  [0.5, 0.75],\n",
       "  [0.5, 0.75],\n",
       "  [0.75, 0.9],\n",
       "  [0.75, 0.9],\n",
       "  [0.75, 0.9],\n",
       "  [0.9, 1.0],\n",
       "  [0.0, inf],\n",
       "  [0.5, inf]])"
      ]
     },
     "execution_count": 100,
     "metadata": {},
     "output_type": "execute_result"
    }
   ],
   "source": [
    "dgm8 = persistencePairs(filt8,4)\n",
    "dgm8"
   ]
  },
  {
   "cell_type": "code",
   "execution_count": 102,
   "id": "1e28986b-41c5-41f8-890e-1d03d17c251a",
   "metadata": {},
   "outputs": [
    {
     "data": {
      "text/plain": [
       "array([[0.  ],\n",
       "       [0.5 ],\n",
       "       [0.5 ],\n",
       "       [0.75],\n",
       "       [0.5 ],\n",
       "       [0.75],\n",
       "       [0.75],\n",
       "       [0.9 ],\n",
       "       [0.5 ],\n",
       "       [0.75],\n",
       "       [0.75],\n",
       "       [0.9 ],\n",
       "       [0.75],\n",
       "       [0.9 ],\n",
       "       [0.85],\n",
       "       [0.95]])"
      ]
     },
     "execution_count": 102,
     "metadata": {},
     "output_type": "execute_result"
    }
   ],
   "source": [
    "filt9"
   ]
  },
  {
   "cell_type": "code",
   "execution_count": 101,
   "id": "91058541-34d8-497e-96e3-7d485c4e620f",
   "metadata": {},
   "outputs": [
    {
     "data": {
      "text/plain": [
       "([[2, 3],\n",
       "  [4, 5],\n",
       "  [8, 9],\n",
       "  [12, 14],\n",
       "  [6, 7],\n",
       "  [10, 11],\n",
       "  [13, 15],\n",
       "  [0, inf],\n",
       "  [1, inf]],\n",
       " [[0.5, 0.75],\n",
       "  [0.5, 0.75],\n",
       "  [0.5, 0.75],\n",
       "  [0.75, 0.85],\n",
       "  [0.75, 0.9],\n",
       "  [0.75, 0.9],\n",
       "  [0.9, 0.95],\n",
       "  [0.0, inf],\n",
       "  [0.5, inf]])"
      ]
     },
     "execution_count": 101,
     "metadata": {},
     "output_type": "execute_result"
    }
   ],
   "source": [
    "dgm9 = persistencePairs(filt9,4)\n",
    "dgm9"
   ]
  },
  {
   "cell_type": "code",
   "execution_count": 107,
   "id": "df52c668-24d5-4dfa-893a-2d2bbbbcb857",
   "metadata": {},
   "outputs": [
    {
     "data": {
      "text/plain": [
       "array([[0.  ],\n",
       "       [0.5 ],\n",
       "       [0.5 ],\n",
       "       [0.75],\n",
       "       [0.5 ],\n",
       "       [0.75],\n",
       "       [0.75],\n",
       "       [0.9 ],\n",
       "       [0.5 ],\n",
       "       [0.75],\n",
       "       [0.75],\n",
       "       [0.85],\n",
       "       [0.75],\n",
       "       [0.9 ],\n",
       "       [0.9 ],\n",
       "       [0.95]])"
      ]
     },
     "execution_count": 107,
     "metadata": {},
     "output_type": "execute_result"
    }
   ],
   "source": [
    "filt10"
   ]
  },
  {
   "cell_type": "code",
   "execution_count": 106,
   "id": "01343dbf-57e3-47a5-a3e5-019ac62554ad",
   "metadata": {},
   "outputs": [
    {
     "data": {
      "text/plain": [
       "([[2, 3],\n",
       "  [4, 5],\n",
       "  [8, 9],\n",
       "  [10, 11],\n",
       "  [6, 7],\n",
       "  [12, 13],\n",
       "  [14, 15],\n",
       "  [0, inf],\n",
       "  [1, inf]],\n",
       " [[0.5, 0.75],\n",
       "  [0.5, 0.75],\n",
       "  [0.5, 0.75],\n",
       "  [0.75, 0.85],\n",
       "  [0.75, 0.9],\n",
       "  [0.75, 0.9],\n",
       "  [0.9, 0.95],\n",
       "  [0.0, inf],\n",
       "  [0.5, inf]])"
      ]
     },
     "execution_count": 106,
     "metadata": {},
     "output_type": "execute_result"
    }
   ],
   "source": [
    "dgm10 = persistencePairs(filt10,4)\n",
    "dgm10"
   ]
  },
  {
   "cell_type": "code",
   "execution_count": 104,
   "id": "4486e5a3-520c-4837-b08b-ffbe4be46b27",
   "metadata": {},
   "outputs": [
    {
     "data": {
      "text/plain": [
       "([[2, 3],\n",
       "  [4, 5],\n",
       "  [8, 9],\n",
       "  [6, 7],\n",
       "  [10, 11],\n",
       "  [12, 13],\n",
       "  [14, 15],\n",
       "  [0, inf],\n",
       "  [1, inf]],\n",
       " [[0.5, 0.75],\n",
       "  [0.5, 0.75],\n",
       "  [0.5, 0.75],\n",
       "  [0.75, 0.85],\n",
       "  [0.75, 0.9],\n",
       "  [0.75, 0.9],\n",
       "  [0.9, 0.95],\n",
       "  [0.0, inf],\n",
       "  [0.5, inf]])"
      ]
     },
     "execution_count": 104,
     "metadata": {},
     "output_type": "execute_result"
    }
   ],
   "source": [
    "dgm11 = persistencePairs(filt11,4)\n",
    "dgm11"
   ]
  },
  {
   "cell_type": "code",
   "execution_count": 105,
   "id": "6052a591-7a13-4979-ab05-c8126e152ee5",
   "metadata": {},
   "outputs": [
    {
     "data": {
      "text/plain": [
       "[[],\n",
       " [1, 2, 3],\n",
       " [1, 2, 3],\n",
       " [0, 1, 3],\n",
       " [],\n",
       " [0, 1, 3],\n",
       " [0, 2, 3],\n",
       " [1, 2, 3],\n",
       " [],\n",
       " [0, 2, 3],\n",
       " [0, 1, 2],\n",
       " [1, 2, 3]]"
      ]
     },
     "execution_count": 105,
     "metadata": {},
     "output_type": "execute_result"
    }
   ],
   "source": [
    "switches"
   ]
  },
  {
   "cell_type": "code",
   "execution_count": 114,
   "id": "e54aac3c-e190-454d-9474-8bd2f49a4990",
   "metadata": {},
   "outputs": [
    {
     "name": "stderr",
     "output_type": "stream",
     "text": [
      "/opt/conda/lib/python3.9/site-packages/persim/wasserstein.py:51: UserWarning: dgm1 has points with non-finite death times;ignoring those points\n",
      "  warnings.warn(\n",
      "/opt/conda/lib/python3.9/site-packages/persim/wasserstein.py:61: UserWarning: dgm2 has points with non-finite death times;ignoring those points\n",
      "  warnings.warn(\n"
     ]
    },
    {
     "data": {
      "text/plain": [
       "(0.10000000000000116,\n",
       " array([[0.  , 0.  , 0.  ],\n",
       "        [1.  , 1.  , 0.  ],\n",
       "        [2.  , 2.  , 0.  ],\n",
       "        [3.  , 4.  , 0.  ],\n",
       "        [4.  , 5.  , 0.  ],\n",
       "        [5.  , 3.  , 0.05],\n",
       "        [6.  , 6.  , 0.05]]))"
      ]
     },
     "execution_count": 114,
     "metadata": {},
     "output_type": "execute_result"
    }
   ],
   "source": [
    "import persim\n",
    "persim.wasserstein(dgm4,dgm3, matching=True)"
   ]
  },
  {
   "cell_type": "code",
   "execution_count": 118,
   "id": "7309e92a-85ba-4a06-9d92-151c680ce32e",
   "metadata": {},
   "outputs": [],
   "source": [
    "dgm3 = [x for x in dgm3 if x[1]!=np.infty ]\n",
    "dgm4 = [x for x in dgm4 if x[1]!=np.infty ]"
   ]
  },
  {
   "cell_type": "code",
   "execution_count": 123,
   "id": "fb7ba930-3f24-4231-a4b6-1810a6cf5a49",
   "metadata": {},
   "outputs": [
    {
     "data": {
      "text/plain": [
       "[[0.5, 0.75],\n",
       " [0.5, 0.75],\n",
       " [0.5, 0.75],\n",
       " [0.75, 0.85],\n",
       " [0.75, 0.9],\n",
       " [0.75, 0.9],\n",
       " [0.9, 0.95]]"
      ]
     },
     "execution_count": 123,
     "metadata": {},
     "output_type": "execute_result"
    }
   ],
   "source": [
    "dgm3"
   ]
  },
  {
   "cell_type": "code",
   "execution_count": 124,
   "id": "e169a38d-89cf-41cc-8fc6-9637296a7901",
   "metadata": {},
   "outputs": [
    {
     "data": {
      "text/plain": [
       "[[0.5, 0.75],\n",
       " [0.5, 0.75],\n",
       " [0.5, 0.75],\n",
       " [0.75, 0.9],\n",
       " [0.75, 0.9],\n",
       " [0.75, 0.9],\n",
       " [0.9, 1.0]]"
      ]
     },
     "execution_count": 124,
     "metadata": {},
     "output_type": "execute_result"
    }
   ],
   "source": [
    "dgm4"
   ]
  },
  {
   "cell_type": "code",
   "execution_count": 122,
   "id": "37209155-8876-4aea-bb17-afd794ed28db",
   "metadata": {},
   "outputs": [
    {
     "data": {
      "text/plain": [
       "(0.10000000000000116,\n",
       " array([[0.  , 0.  , 0.  ],\n",
       "        [1.  , 1.  , 0.  ],\n",
       "        [2.  , 2.  , 0.  ],\n",
       "        [3.  , 3.  , 0.05],\n",
       "        [4.  , 4.  , 0.  ],\n",
       "        [5.  , 5.  , 0.  ],\n",
       "        [6.  , 6.  , 0.05]]))"
      ]
     },
     "execution_count": 122,
     "metadata": {},
     "output_type": "execute_result"
    }
   ],
   "source": [
    "persim.wasserstein(dgm3, dgm4, matching=True)"
   ]
  },
  {
   "cell_type": "code",
   "execution_count": 129,
   "id": "cb034d4b-ab44-4d44-85ee-a244d834453f",
   "metadata": {},
   "outputs": [
    {
     "name": "stdout",
     "output_type": "stream",
     "text": [
      "[[0.1 ]\n",
      " [0.05]\n",
      " [0.05]\n",
      " [0.05]\n",
      " [0.05]\n",
      " [0.05]\n",
      " [0.05]\n",
      " [0.1 ]\n",
      " [0.05]\n",
      " [0.05]\n",
      " [0.05]\n",
      " [0.1 ]\n",
      " [0.05]\n",
      " [0.1 ]\n",
      " [0.1 ]\n",
      " [0.  ]] [[0.1 ]\n",
      " [0.05]\n",
      " [0.05]\n",
      " [0.05]\n",
      " [0.05]\n",
      " [0.05]\n",
      " [0.05]\n",
      " [0.1 ]\n",
      " [0.  ]\n",
      " [0.1 ]\n",
      " [0.1 ]\n",
      " [0.05]\n",
      " [0.1 ]\n",
      " [0.05]\n",
      " [0.05]\n",
      " [0.05]]\n"
     ]
    }
   ],
   "source": [
    "print(pmf4, pmf3)"
   ]
  },
  {
   "cell_type": "code",
   "execution_count": 136,
   "id": "4b72871a-5bb0-4f47-8908-eff6a5953320",
   "metadata": {},
   "outputs": [
    {
     "data": {
      "text/plain": [
       "0.05000000000000169"
      ]
     },
     "execution_count": 136,
     "metadata": {},
     "output_type": "execute_result"
    }
   ],
   "source": [
    "dist[4,9]"
   ]
  },
  {
   "cell_type": "code",
   "execution_count": 140,
   "id": "43c54331-9a30-42f2-ae2d-8df353d44a6d",
   "metadata": {},
   "outputs": [],
   "source": [
    "oas,_,_ = genOA(24,5)"
   ]
  },
  {
   "cell_type": "code",
   "execution_count": 141,
   "id": "a8b1ac5c-ffdd-47c8-8ebc-f84802e15cf4",
   "metadata": {},
   "outputs": [
    {
     "data": {
      "text/plain": [
       "63"
      ]
     },
     "execution_count": 141,
     "metadata": {},
     "output_type": "execute_result"
    }
   ],
   "source": [
    "len(oas)"
   ]
  },
  {
   "cell_type": "code",
   "execution_count": 143,
   "id": "09621459-d2f4-4cef-9c90-138530088404",
   "metadata": {},
   "outputs": [
    {
     "data": {
      "text/plain": [
       "12"
      ]
     },
     "execution_count": 143,
     "metadata": {},
     "output_type": "execute_result"
    }
   ],
   "source": [
    "len(OAF)"
   ]
  },
  {
   "cell_type": "code",
   "execution_count": 145,
   "id": "5f3b1c95-3a2f-4268-bfc4-6103e897bd6d",
   "metadata": {},
   "outputs": [],
   "source": [
    "arr10 = OAF[-2]\n",
    "pmf10 = arr10.to_pmf(normalize=True)"
   ]
  },
  {
   "cell_type": "code",
   "execution_count": 148,
   "id": "e423a9df-d989-48de-a948-02c2a6df8a6e",
   "metadata": {},
   "outputs": [],
   "source": [
    "filt10 = pmf10.compute_filtration()"
   ]
  },
  {
   "cell_type": "code",
   "execution_count": 149,
   "id": "7ffec454-2443-4ef5-b08d-e7a1ce1abf92",
   "metadata": {},
   "outputs": [
    {
     "data": {
      "text/plain": [
       "array([[0.  ],\n",
       "       [0.5 ],\n",
       "       [0.5 ],\n",
       "       [0.75],\n",
       "       [0.5 ],\n",
       "       [0.75],\n",
       "       [0.75],\n",
       "       [0.9 ],\n",
       "       [0.5 ],\n",
       "       [0.75],\n",
       "       [0.75],\n",
       "       [0.9 ],\n",
       "       [0.75],\n",
       "       [0.85],\n",
       "       [0.9 ],\n",
       "       [0.95]])"
      ]
     },
     "execution_count": 149,
     "metadata": {},
     "output_type": "execute_result"
    }
   ],
   "source": [
    "filt10"
   ]
  },
  {
   "cell_type": "code",
   "execution_count": 150,
   "id": "f0c7be78-fe58-4dfd-8343-8b57504eabc6",
   "metadata": {},
   "outputs": [],
   "source": [
    "dgm10 = persistencePairs(filt10,4)"
   ]
  },
  {
   "cell_type": "code",
   "execution_count": 151,
   "id": "ae4d2b34-acd5-429b-9220-a93b7a86d894",
   "metadata": {},
   "outputs": [
    {
     "data": {
      "text/plain": [
       "([[2, 5],\n",
       "  [3, 6],\n",
       "  [4, 8],\n",
       "  [10, 11],\n",
       "  [7, 12],\n",
       "  [9, 13],\n",
       "  [14, 15],\n",
       "  [0, inf],\n",
       "  [1, inf]],\n",
       " [[0.5, 0.75],\n",
       "  [0.5, 0.75],\n",
       "  [0.5, 0.75],\n",
       "  [0.75, 0.85],\n",
       "  [0.75, 0.9],\n",
       "  [0.75, 0.9],\n",
       "  [0.9, 0.95],\n",
       "  [0.0, inf],\n",
       "  [0.5, inf]])"
      ]
     },
     "execution_count": 151,
     "metadata": {},
     "output_type": "execute_result"
    }
   ],
   "source": [
    "dgm10"
   ]
  },
  {
   "cell_type": "code",
   "execution_count": 152,
   "id": "79fa4712-4acc-45ab-8463-99f3b769aded",
   "metadata": {},
   "outputs": [
    {
     "data": {
      "text/plain": [
       "[[0.5, 0.75],\n",
       " [0.5, 0.75],\n",
       " [0.5, 0.75],\n",
       " [0.75, 0.9],\n",
       " [0.75, 0.9],\n",
       " [0.75, 0.9],\n",
       " [0.9, 1.0]]"
      ]
     },
     "execution_count": 152,
     "metadata": {},
     "output_type": "execute_result"
    }
   ],
   "source": [
    "dgm4"
   ]
  },
  {
   "cell_type": "code",
   "execution_count": 153,
   "id": "d09cc8e7-0c67-4f55-943c-b69e586d0971",
   "metadata": {},
   "outputs": [
    {
     "data": {
      "text/plain": [
       "array([[0.  ],\n",
       "       [0.5 ],\n",
       "       [0.5 ],\n",
       "       [0.75],\n",
       "       [0.5 ],\n",
       "       [0.75],\n",
       "       [0.75],\n",
       "       [0.9 ],\n",
       "       [0.5 ],\n",
       "       [0.75],\n",
       "       [0.75],\n",
       "       [0.9 ],\n",
       "       [0.75],\n",
       "       [0.9 ],\n",
       "       [0.9 ],\n",
       "       [1.  ]])"
      ]
     },
     "execution_count": 153,
     "metadata": {},
     "output_type": "execute_result"
    }
   ],
   "source": [
    "filt4"
   ]
  },
  {
   "cell_type": "code",
   "execution_count": 155,
   "id": "825de6d0-b864-444b-bb57-2edd41024493",
   "metadata": {},
   "outputs": [],
   "source": [
    "dgm8 = persistencePairs(filt4, d=4)"
   ]
  },
  {
   "cell_type": "code",
   "execution_count": 156,
   "id": "7c773cf9-769d-4e1a-9789-c50516e4f293",
   "metadata": {},
   "outputs": [
    {
     "data": {
      "text/plain": [
       "([[2, 5],\n",
       "  [3, 6],\n",
       "  [4, 8],\n",
       "  [7, 11],\n",
       "  [9, 12],\n",
       "  [10, 13],\n",
       "  [14, 15],\n",
       "  [0, inf],\n",
       "  [1, inf]],\n",
       " [[0.5, 0.75],\n",
       "  [0.5, 0.75],\n",
       "  [0.5, 0.75],\n",
       "  [0.75, 0.9],\n",
       "  [0.75, 0.9],\n",
       "  [0.75, 0.9],\n",
       "  [0.9, 1.0],\n",
       "  [0.0, inf],\n",
       "  [0.5, inf]])"
      ]
     },
     "execution_count": 156,
     "metadata": {},
     "output_type": "execute_result"
    }
   ],
   "source": [
    "dgm8"
   ]
  },
  {
   "cell_type": "code",
   "execution_count": 158,
   "id": "1ed53974-dd3c-4044-a7ab-c91861aa0895",
   "metadata": {},
   "outputs": [
    {
     "name": "stdout",
     "output_type": "stream",
     "text": [
      "[[0.1 ]\n",
      " [0.05]\n",
      " [0.  ]\n",
      " [0.1 ]\n",
      " [0.05]\n",
      " [0.05]\n",
      " [0.1 ]\n",
      " [0.05]\n",
      " [0.05]\n",
      " [0.05]\n",
      " [0.1 ]\n",
      " [0.05]\n",
      " [0.05]\n",
      " [0.1 ]\n",
      " [0.05]\n",
      " [0.05]]\n"
     ]
    }
   ],
   "source": [
    "print(pmf10)"
   ]
  },
  {
   "cell_type": "code",
   "execution_count": 160,
   "id": "6619acfd-d18e-4a6f-9e14-20f30a83288c",
   "metadata": {},
   "outputs": [
    {
     "name": "stdout",
     "output_type": "stream",
     "text": [
      "[[0.1 ]\n",
      " [0.05]\n",
      " [0.05]\n",
      " [0.05]\n",
      " [0.05]\n",
      " [0.05]\n",
      " [0.05]\n",
      " [0.1 ]\n",
      " [0.05]\n",
      " [0.05]\n",
      " [0.05]\n",
      " [0.1 ]\n",
      " [0.05]\n",
      " [0.1 ]\n",
      " [0.1 ]\n",
      " [0.  ]]\n"
     ]
    }
   ],
   "source": [
    "print(pmf4)"
   ]
  },
  {
   "cell_type": "markdown",
   "id": "c000fbc6-7102-4551-8837-9361ff648f9e",
   "metadata": {},
   "source": [
    "## Distances"
   ]
  },
  {
   "cell_type": "code",
   "execution_count": 163,
   "id": "d0f97f91-2c9b-4273-be0d-2c50ef9fd32b",
   "metadata": {},
   "outputs": [],
   "source": [
    "dist = np.load('./data/WasDists_N_24_d_5-NC.npy')"
   ]
  },
  {
   "cell_type": "code",
   "execution_count": 165,
   "id": "76559795-5a54-4e7f-bae0-170164a56949",
   "metadata": {},
   "outputs": [
    {
     "data": {
      "text/plain": [
       "(1323, 1323)"
      ]
     },
     "execution_count": 165,
     "metadata": {},
     "output_type": "execute_result"
    }
   ],
   "source": [
    "dist.shape"
   ]
  },
  {
   "cell_type": "code",
   "execution_count": 169,
   "id": "04ab6f99-1f23-4a45-90f2-f47fd190c584",
   "metadata": {},
   "outputs": [],
   "source": [
    "InDistr, OutDistr = DistancesDistr(dist, 21)"
   ]
  },
  {
   "cell_type": "code",
   "execution_count": 172,
   "id": "a440f3b8-bb7f-453f-bbf9-5a4813d5a2b3",
   "metadata": {
    "tags": []
   },
   "outputs": [],
   "source": [
    "OutDistr = np.array(OutDistr)"
   ]
  },
  {
   "cell_type": "code",
   "execution_count": 180,
   "id": "7af9627b-4b27-4df6-a7d1-2c43c9a2e53d",
   "metadata": {},
   "outputs": [],
   "source": [
    "smalls = OutDistr[ OutDistr < .00000001]"
   ]
  },
  {
   "cell_type": "code",
   "execution_count": 181,
   "id": "4924d328-697a-47d2-b3dd-5a6150db6a04",
   "metadata": {},
   "outputs": [
    {
     "data": {
      "text/plain": [
       "(169,)"
      ]
     },
     "execution_count": 181,
     "metadata": {},
     "output_type": "execute_result"
    }
   ],
   "source": [
    "smalls.shape"
   ]
  },
  {
   "cell_type": "code",
   "execution_count": 182,
   "id": "3d5c5db2-f4f1-4719-9dea-c66da5f1f5ac",
   "metadata": {},
   "outputs": [
    {
     "data": {
      "text/plain": [
       "array([4.99600361e-16, 4.99600361e-16, 4.99600361e-16, 4.99600361e-16,\n",
       "       4.99600361e-16, 4.99600361e-16, 4.99600361e-16, 4.99600361e-16,\n",
       "       4.99600361e-16, 4.99600361e-16, 4.99600361e-16, 4.99600361e-16,\n",
       "       4.99600361e-16, 4.99600361e-16, 4.99600361e-16, 4.99600361e-16,\n",
       "       4.99600361e-16, 4.40914474e-16, 4.40914474e-16, 4.40914474e-16,\n",
       "       4.40914474e-16, 4.40914474e-16, 4.40914474e-16, 4.71844785e-16,\n",
       "       4.71844785e-16, 4.71844785e-16, 4.71844785e-16, 4.40914474e-16,\n",
       "       4.40914474e-16, 4.40914474e-16, 4.71844785e-16, 4.71844785e-16,\n",
       "       4.71844785e-16, 4.71844785e-16, 4.40914474e-16, 4.40914474e-16,\n",
       "       4.40914474e-16, 4.71844785e-16, 4.71844785e-16, 4.71844785e-16,\n",
       "       4.71844785e-16, 4.40914474e-16, 4.40914474e-16, 4.40914474e-16,\n",
       "       4.71844785e-16, 4.71844785e-16, 4.71844785e-16, 4.71844785e-16,\n",
       "       0.00000000e+00, 0.00000000e+00, 0.00000000e+00, 0.00000000e+00,\n",
       "       0.00000000e+00, 0.00000000e+00, 0.00000000e+00, 0.00000000e+00,\n",
       "       0.00000000e+00, 0.00000000e+00, 4.99600361e-16, 4.99600361e-16,\n",
       "       4.99600361e-16, 4.99600361e-16, 4.99600361e-16, 4.99600361e-16,\n",
       "       0.00000000e+00, 0.00000000e+00, 4.99600361e-16, 4.99600361e-16,\n",
       "       4.99600361e-16, 4.99600361e-16, 4.99600361e-16, 4.99600361e-16,\n",
       "       2.51387549e-16, 2.51387549e-16, 2.51387549e-16, 2.51387549e-16,\n",
       "       2.49800181e-16, 2.49800181e-16, 2.49800181e-16, 2.49800181e-16,\n",
       "       2.49800181e-16, 2.49800181e-16, 2.51387549e-16, 2.51387549e-16,\n",
       "       2.51387549e-16, 2.51387549e-16, 2.49800181e-16, 2.49800181e-16,\n",
       "       2.49800181e-16, 2.49800181e-16, 2.49800181e-16, 2.49800181e-16,\n",
       "       2.51387549e-16, 2.51387549e-16, 2.51387549e-16, 2.51387549e-16,\n",
       "       2.49800181e-16, 2.49800181e-16, 2.49800181e-16, 2.49800181e-16,\n",
       "       2.49800181e-16, 2.49800181e-16, 4.99600361e-16, 4.99600361e-16,\n",
       "       4.99600361e-16, 4.99600361e-16, 4.99600361e-16, 4.99600361e-16,\n",
       "       4.99600361e-16, 4.99600361e-16, 4.99600361e-16, 4.99600361e-16,\n",
       "       4.99600361e-16, 4.99600361e-16, 2.49800181e-16, 2.49800181e-16,\n",
       "       2.49800181e-16, 2.49800181e-16, 2.49800181e-16, 2.49800181e-16,\n",
       "       2.49800181e-16, 2.49800181e-16, 2.49800181e-16, 2.49800181e-16,\n",
       "       2.49800181e-16, 2.49800181e-16, 2.79143124e-16, 0.00000000e+00,\n",
       "       0.00000000e+00, 0.00000000e+00, 0.00000000e+00, 0.00000000e+00,\n",
       "       0.00000000e+00, 2.20457237e-16, 2.20457237e-16, 2.20457237e-16,\n",
       "       2.20457237e-16, 2.20457237e-16, 2.20457237e-16, 2.20457237e-16,\n",
       "       2.79143124e-16, 2.79143124e-16, 2.79143124e-16, 2.79143124e-16,\n",
       "       2.79143124e-16, 2.79143124e-16, 2.79143124e-16, 2.79143124e-16,\n",
       "       2.79143124e-16, 2.79143124e-16, 2.79143124e-16, 2.79143124e-16,\n",
       "       2.79143124e-16, 2.79143124e-16, 2.79143124e-16, 2.79143124e-16,\n",
       "       2.79143124e-16, 2.79143124e-16, 2.79143124e-16, 2.79143124e-16,\n",
       "       2.79143124e-16, 2.79143124e-16, 2.79143124e-16, 2.79143124e-16,\n",
       "       0.00000000e+00, 0.00000000e+00, 0.00000000e+00, 0.00000000e+00,\n",
       "       0.00000000e+00])"
      ]
     },
     "execution_count": 182,
     "metadata": {},
     "output_type": "execute_result"
    }
   ],
   "source": [
    "smalls"
   ]
  },
  {
   "cell_type": "markdown",
   "id": "1ef85c2f-1d32-4884-8bbd-3310682fdf1e",
   "metadata": {},
   "source": [
    "# Case d=6"
   ]
  },
  {
   "cell_type": "code",
   "execution_count": 5,
   "id": "3d2a1633-51cb-4c60-9bbf-d3cedd6be2c7",
   "metadata": {},
   "outputs": [
    {
     "ename": "KeyboardInterrupt",
     "evalue": "",
     "output_type": "error",
     "traceback": [
      "\u001b[0;31m---------------------------------------------------------------------------\u001b[0m",
      "\u001b[0;31mKeyboardInterrupt\u001b[0m                         Traceback (most recent call last)",
      "Cell \u001b[0;32mIn [5], line 20\u001b[0m\n\u001b[1;32m     16\u001b[0m filts \u001b[38;5;241m=\u001b[39m [arr\u001b[38;5;241m.\u001b[39mto_pmf(normalize\u001b[38;5;241m=\u001b[39m\u001b[38;5;28;01mTrue\u001b[39;00m)\u001b[38;5;241m.\u001b[39mcompute_filtration() \u001b[38;5;28;01mfor\u001b[39;00m arr \u001b[38;5;129;01min\u001b[39;00m OAF ]\n\u001b[1;32m     17\u001b[0m filts \u001b[38;5;241m=\u001b[39m np\u001b[38;5;241m.\u001b[39mcolumn_stack(filts)\n\u001b[0;32m---> 20\u001b[0m dist \u001b[38;5;241m=\u001b[39m \u001b[43mBotDistances\u001b[49m\u001b[43m(\u001b[49m\u001b[43mfilts\u001b[49m\u001b[43m \u001b[49m\u001b[43m,\u001b[49m\u001b[43m \u001b[49m\u001b[43md\u001b[49m\u001b[43m)\u001b[49m\n\u001b[1;32m     23\u001b[0m AvgInBot , AvgOutBot \u001b[38;5;241m=\u001b[39m AvgDistances(dist, NSwitches\u001b[38;5;241m+\u001b[39m\u001b[38;5;241m1\u001b[39m)\n\u001b[1;32m     25\u001b[0m resultBot\u001b[38;5;241m.\u001b[39mappend( ( \u001b[38;5;124m\"\u001b[39m\u001b[38;5;124m( \u001b[39m\u001b[38;5;132;01m{}\u001b[39;00m\u001b[38;5;124m , \u001b[39m\u001b[38;5;132;01m{}\u001b[39;00m\u001b[38;5;124m )\u001b[39m\u001b[38;5;124m\"\u001b[39m\u001b[38;5;241m.\u001b[39mformat(N,d) , AvgInBot , AvgOutBot ) )\n",
      "File \u001b[0;32m~/tmvb/persistence/pers.py:195\u001b[0m, in \u001b[0;36mBotDistances\u001b[0;34m(filtrations, d)\u001b[0m\n\u001b[1;32m    191\u001b[0m \u001b[38;5;28;01mfor\u001b[39;00m i \u001b[38;5;129;01min\u001b[39;00m \u001b[38;5;28mrange\u001b[39m(size):   \n\u001b[1;32m    193\u001b[0m     \u001b[38;5;28;01mfor\u001b[39;00m j \u001b[38;5;129;01min\u001b[39;00m \u001b[38;5;28mrange\u001b[39m(i,size):\n\u001b[0;32m--> 195\u001b[0m         distances[i,j] \u001b[38;5;241m=\u001b[39m \u001b[43mbottleneckDistanceDiags\u001b[49m\u001b[43m(\u001b[49m\u001b[43mVP\u001b[49m\u001b[43m[\u001b[49m\u001b[43mi\u001b[49m\u001b[43m]\u001b[49m\u001b[43m,\u001b[49m\u001b[43mVP\u001b[49m\u001b[43m[\u001b[49m\u001b[43mj\u001b[49m\u001b[43m]\u001b[49m\u001b[43m)\u001b[49m\n\u001b[1;32m    196\u001b[0m         distances[j,i] \u001b[38;5;241m=\u001b[39m distances[i,j]\n\u001b[1;32m    198\u001b[0m \u001b[38;5;28;01mreturn\u001b[39;00m distances\n",
      "File \u001b[0;32m~/tmvb/persistence/pers.py:142\u001b[0m, in \u001b[0;36mbottleneckDistanceDiags\u001b[0;34m(dgm1, dgm2)\u001b[0m\n\u001b[1;32m    139\u001b[0m dgm1 \u001b[38;5;241m=\u001b[39m [ x \u001b[38;5;28;01mfor\u001b[39;00m x \u001b[38;5;129;01min\u001b[39;00m dgm1 \u001b[38;5;28;01mif\u001b[39;00m x[\u001b[38;5;241m1\u001b[39m] \u001b[38;5;241m!=\u001b[39m np\u001b[38;5;241m.\u001b[39minfty]\n\u001b[1;32m    140\u001b[0m dgm2 \u001b[38;5;241m=\u001b[39m [ x \u001b[38;5;28;01mfor\u001b[39;00m x \u001b[38;5;129;01min\u001b[39;00m dgm2 \u001b[38;5;28;01mif\u001b[39;00m x[\u001b[38;5;241m1\u001b[39m] \u001b[38;5;241m!=\u001b[39m np\u001b[38;5;241m.\u001b[39minfty]\n\u001b[0;32m--> 142\u001b[0m \u001b[38;5;28;01mreturn\u001b[39;00m \u001b[43mpersim\u001b[49m\u001b[38;5;241;43m.\u001b[39;49m\u001b[43mbottleneck\u001b[49m\u001b[43m(\u001b[49m\u001b[43mdgm1\u001b[49m\u001b[43m,\u001b[49m\u001b[43m \u001b[49m\u001b[43mdgm2\u001b[49m\u001b[43m)\u001b[49m\n",
      "File \u001b[0;32m/opt/conda/lib/python3.9/site-packages/persim/bottleneck.py:112\u001b[0m, in \u001b[0;36mbottleneck\u001b[0;34m(dgm1, dgm2, matching)\u001b[0m\n\u001b[1;32m    110\u001b[0m \u001b[38;5;28;01mfor\u001b[39;00m i \u001b[38;5;129;01min\u001b[39;00m \u001b[38;5;28mrange\u001b[39m(D\u001b[38;5;241m.\u001b[39mshape[\u001b[38;5;241m0\u001b[39m]):\n\u001b[1;32m    111\u001b[0m     graph[\u001b[38;5;124m\"\u001b[39m\u001b[38;5;132;01m{}\u001b[39;00m\u001b[38;5;124m\"\u001b[39m\u001b[38;5;241m.\u001b[39mformat(i)] \u001b[38;5;241m=\u001b[39m {j \u001b[38;5;28;01mfor\u001b[39;00m j \u001b[38;5;129;01min\u001b[39;00m \u001b[38;5;28mrange\u001b[39m(D\u001b[38;5;241m.\u001b[39mshape[\u001b[38;5;241m1\u001b[39m]) \u001b[38;5;28;01mif\u001b[39;00m D[i, j] \u001b[38;5;241m<\u001b[39m\u001b[38;5;241m=\u001b[39m d}\n\u001b[0;32m--> 112\u001b[0m res \u001b[38;5;241m=\u001b[39m \u001b[43mHopcroftKarp\u001b[49m\u001b[43m(\u001b[49m\u001b[43mgraph\u001b[49m\u001b[43m)\u001b[49m\u001b[38;5;241m.\u001b[39mmaximum_matching()\n\u001b[1;32m    113\u001b[0m \u001b[38;5;28;01mif\u001b[39;00m \u001b[38;5;28mlen\u001b[39m(res) \u001b[38;5;241m==\u001b[39m \u001b[38;5;241m2\u001b[39m \u001b[38;5;241m*\u001b[39m D\u001b[38;5;241m.\u001b[39mshape[\u001b[38;5;241m0\u001b[39m] \u001b[38;5;129;01mand\u001b[39;00m d \u001b[38;5;241m<\u001b[39m\u001b[38;5;241m=\u001b[39m bdist:\n\u001b[1;32m    114\u001b[0m     bdist \u001b[38;5;241m=\u001b[39m d\n",
      "File \u001b[0;32m/opt/conda/lib/python3.9/site-packages/hopcroftkarp/__init__.py:29\u001b[0m, in \u001b[0;36mHopcroftKarp.__init__\u001b[0;34m(self, graph)\u001b[0m\n\u001b[1;32m     26\u001b[0m \u001b[38;5;28mself\u001b[39m\u001b[38;5;241m.\u001b[39m_dfs_paths \u001b[38;5;241m=\u001b[39m []\n\u001b[1;32m     27\u001b[0m \u001b[38;5;28mself\u001b[39m\u001b[38;5;241m.\u001b[39m_dfs_parent \u001b[38;5;241m=\u001b[39m {}\n\u001b[0;32m---> 29\u001b[0m \u001b[38;5;28mself\u001b[39m\u001b[38;5;241m.\u001b[39m_graph \u001b[38;5;241m=\u001b[39m \u001b[43mdeepcopy\u001b[49m\u001b[43m(\u001b[49m\u001b[43mgraph\u001b[49m\u001b[43m)\u001b[49m\n\u001b[1;32m     30\u001b[0m \u001b[38;5;28mself\u001b[39m\u001b[38;5;241m.\u001b[39m_left \u001b[38;5;241m=\u001b[39m \u001b[38;5;28mset\u001b[39m(\u001b[38;5;28mself\u001b[39m\u001b[38;5;241m.\u001b[39m_graph\u001b[38;5;241m.\u001b[39mkeys())\n\u001b[1;32m     31\u001b[0m \u001b[38;5;28mself\u001b[39m\u001b[38;5;241m.\u001b[39m_right \u001b[38;5;241m=\u001b[39m \u001b[38;5;28mset\u001b[39m()\n",
      "File \u001b[0;32m/opt/conda/lib/python3.9/copy.py:146\u001b[0m, in \u001b[0;36mdeepcopy\u001b[0;34m(x, memo, _nil)\u001b[0m\n\u001b[1;32m    144\u001b[0m copier \u001b[38;5;241m=\u001b[39m _deepcopy_dispatch\u001b[38;5;241m.\u001b[39mget(\u001b[38;5;28mcls\u001b[39m)\n\u001b[1;32m    145\u001b[0m \u001b[38;5;28;01mif\u001b[39;00m copier \u001b[38;5;129;01mis\u001b[39;00m \u001b[38;5;129;01mnot\u001b[39;00m \u001b[38;5;28;01mNone\u001b[39;00m:\n\u001b[0;32m--> 146\u001b[0m     y \u001b[38;5;241m=\u001b[39m \u001b[43mcopier\u001b[49m\u001b[43m(\u001b[49m\u001b[43mx\u001b[49m\u001b[43m,\u001b[49m\u001b[43m \u001b[49m\u001b[43mmemo\u001b[49m\u001b[43m)\u001b[49m\n\u001b[1;32m    147\u001b[0m \u001b[38;5;28;01melse\u001b[39;00m:\n\u001b[1;32m    148\u001b[0m     \u001b[38;5;28;01mif\u001b[39;00m \u001b[38;5;28missubclass\u001b[39m(\u001b[38;5;28mcls\u001b[39m, \u001b[38;5;28mtype\u001b[39m):\n",
      "File \u001b[0;32m/opt/conda/lib/python3.9/copy.py:230\u001b[0m, in \u001b[0;36m_deepcopy_dict\u001b[0;34m(x, memo, deepcopy)\u001b[0m\n\u001b[1;32m    228\u001b[0m memo[\u001b[38;5;28mid\u001b[39m(x)] \u001b[38;5;241m=\u001b[39m y\n\u001b[1;32m    229\u001b[0m \u001b[38;5;28;01mfor\u001b[39;00m key, value \u001b[38;5;129;01min\u001b[39;00m x\u001b[38;5;241m.\u001b[39mitems():\n\u001b[0;32m--> 230\u001b[0m     y[deepcopy(key, memo)] \u001b[38;5;241m=\u001b[39m \u001b[43mdeepcopy\u001b[49m\u001b[43m(\u001b[49m\u001b[43mvalue\u001b[49m\u001b[43m,\u001b[49m\u001b[43m \u001b[49m\u001b[43mmemo\u001b[49m\u001b[43m)\u001b[49m\n\u001b[1;32m    231\u001b[0m \u001b[38;5;28;01mreturn\u001b[39;00m y\n",
      "File \u001b[0;32m/opt/conda/lib/python3.9/copy.py:172\u001b[0m, in \u001b[0;36mdeepcopy\u001b[0;34m(x, memo, _nil)\u001b[0m\n\u001b[1;32m    170\u001b[0m                 y \u001b[38;5;241m=\u001b[39m x\n\u001b[1;32m    171\u001b[0m             \u001b[38;5;28;01melse\u001b[39;00m:\n\u001b[0;32m--> 172\u001b[0m                 y \u001b[38;5;241m=\u001b[39m \u001b[43m_reconstruct\u001b[49m\u001b[43m(\u001b[49m\u001b[43mx\u001b[49m\u001b[43m,\u001b[49m\u001b[43m \u001b[49m\u001b[43mmemo\u001b[49m\u001b[43m,\u001b[49m\u001b[43m \u001b[49m\u001b[38;5;241;43m*\u001b[39;49m\u001b[43mrv\u001b[49m\u001b[43m)\u001b[49m\n\u001b[1;32m    174\u001b[0m \u001b[38;5;66;03m# If is its own copy, don't memoize.\u001b[39;00m\n\u001b[1;32m    175\u001b[0m \u001b[38;5;28;01mif\u001b[39;00m y \u001b[38;5;129;01mis\u001b[39;00m \u001b[38;5;129;01mnot\u001b[39;00m x:\n",
      "File \u001b[0;32m/opt/conda/lib/python3.9/copy.py:264\u001b[0m, in \u001b[0;36m_reconstruct\u001b[0;34m(x, memo, func, args, state, listiter, dictiter, deepcopy)\u001b[0m\n\u001b[1;32m    262\u001b[0m \u001b[38;5;28;01mif\u001b[39;00m deep \u001b[38;5;129;01mand\u001b[39;00m args:\n\u001b[1;32m    263\u001b[0m     args \u001b[38;5;241m=\u001b[39m (deepcopy(arg, memo) \u001b[38;5;28;01mfor\u001b[39;00m arg \u001b[38;5;129;01min\u001b[39;00m args)\n\u001b[0;32m--> 264\u001b[0m y \u001b[38;5;241m=\u001b[39m \u001b[43mfunc\u001b[49m\u001b[43m(\u001b[49m\u001b[38;5;241;43m*\u001b[39;49m\u001b[43margs\u001b[49m\u001b[43m)\u001b[49m\n\u001b[1;32m    265\u001b[0m \u001b[38;5;28;01mif\u001b[39;00m deep:\n\u001b[1;32m    266\u001b[0m     memo[\u001b[38;5;28mid\u001b[39m(x)] \u001b[38;5;241m=\u001b[39m y\n",
      "File \u001b[0;32m/opt/conda/lib/python3.9/copy.py:263\u001b[0m, in \u001b[0;36m<genexpr>\u001b[0;34m(.0)\u001b[0m\n\u001b[1;32m    261\u001b[0m deep \u001b[38;5;241m=\u001b[39m memo \u001b[38;5;129;01mis\u001b[39;00m \u001b[38;5;129;01mnot\u001b[39;00m \u001b[38;5;28;01mNone\u001b[39;00m\n\u001b[1;32m    262\u001b[0m \u001b[38;5;28;01mif\u001b[39;00m deep \u001b[38;5;129;01mand\u001b[39;00m args:\n\u001b[0;32m--> 263\u001b[0m     args \u001b[38;5;241m=\u001b[39m (\u001b[43mdeepcopy\u001b[49m\u001b[43m(\u001b[49m\u001b[43marg\u001b[49m\u001b[43m,\u001b[49m\u001b[43m \u001b[49m\u001b[43mmemo\u001b[49m\u001b[43m)\u001b[49m \u001b[38;5;28;01mfor\u001b[39;00m arg \u001b[38;5;129;01min\u001b[39;00m args)\n\u001b[1;32m    264\u001b[0m y \u001b[38;5;241m=\u001b[39m func(\u001b[38;5;241m*\u001b[39margs)\n\u001b[1;32m    265\u001b[0m \u001b[38;5;28;01mif\u001b[39;00m deep:\n",
      "File \u001b[0;32m/opt/conda/lib/python3.9/copy.py:146\u001b[0m, in \u001b[0;36mdeepcopy\u001b[0;34m(x, memo, _nil)\u001b[0m\n\u001b[1;32m    144\u001b[0m copier \u001b[38;5;241m=\u001b[39m _deepcopy_dispatch\u001b[38;5;241m.\u001b[39mget(\u001b[38;5;28mcls\u001b[39m)\n\u001b[1;32m    145\u001b[0m \u001b[38;5;28;01mif\u001b[39;00m copier \u001b[38;5;129;01mis\u001b[39;00m \u001b[38;5;129;01mnot\u001b[39;00m \u001b[38;5;28;01mNone\u001b[39;00m:\n\u001b[0;32m--> 146\u001b[0m     y \u001b[38;5;241m=\u001b[39m \u001b[43mcopier\u001b[49m\u001b[43m(\u001b[49m\u001b[43mx\u001b[49m\u001b[43m,\u001b[49m\u001b[43m \u001b[49m\u001b[43mmemo\u001b[49m\u001b[43m)\u001b[49m\n\u001b[1;32m    147\u001b[0m \u001b[38;5;28;01melse\u001b[39;00m:\n\u001b[1;32m    148\u001b[0m     \u001b[38;5;28;01mif\u001b[39;00m \u001b[38;5;28missubclass\u001b[39m(\u001b[38;5;28mcls\u001b[39m, \u001b[38;5;28mtype\u001b[39m):\n",
      "File \u001b[0;32m/opt/conda/lib/python3.9/copy.py:205\u001b[0m, in \u001b[0;36m_deepcopy_list\u001b[0;34m(x, memo, deepcopy)\u001b[0m\n\u001b[1;32m    203\u001b[0m append \u001b[38;5;241m=\u001b[39m y\u001b[38;5;241m.\u001b[39mappend\n\u001b[1;32m    204\u001b[0m \u001b[38;5;28;01mfor\u001b[39;00m a \u001b[38;5;129;01min\u001b[39;00m x:\n\u001b[0;32m--> 205\u001b[0m     append(\u001b[43mdeepcopy\u001b[49m\u001b[43m(\u001b[49m\u001b[43ma\u001b[49m\u001b[43m,\u001b[49m\u001b[43m \u001b[49m\u001b[43mmemo\u001b[49m\u001b[43m)\u001b[49m)\n\u001b[1;32m    206\u001b[0m \u001b[38;5;28;01mreturn\u001b[39;00m y\n",
      "File \u001b[0;32m/opt/conda/lib/python3.9/copy.py:138\u001b[0m, in \u001b[0;36mdeepcopy\u001b[0;34m(x, memo, _nil)\u001b[0m\n\u001b[1;32m    135\u001b[0m     memo \u001b[38;5;241m=\u001b[39m {}\n\u001b[1;32m    137\u001b[0m d \u001b[38;5;241m=\u001b[39m \u001b[38;5;28mid\u001b[39m(x)\n\u001b[0;32m--> 138\u001b[0m y \u001b[38;5;241m=\u001b[39m \u001b[43mmemo\u001b[49m\u001b[38;5;241;43m.\u001b[39;49m\u001b[43mget\u001b[49m\u001b[43m(\u001b[49m\u001b[43md\u001b[49m\u001b[43m,\u001b[49m\u001b[43m \u001b[49m\u001b[43m_nil\u001b[49m\u001b[43m)\u001b[49m\n\u001b[1;32m    139\u001b[0m \u001b[38;5;28;01mif\u001b[39;00m y \u001b[38;5;129;01mis\u001b[39;00m \u001b[38;5;129;01mnot\u001b[39;00m _nil:\n\u001b[1;32m    140\u001b[0m     \u001b[38;5;28;01mreturn\u001b[39;00m y\n",
      "\u001b[0;31mKeyboardInterrupt\u001b[0m: "
     ]
    }
   ],
   "source": [
    "resultBot = []\n",
    "NResamples = 3\n",
    "\n",
    "for d in [6]:\n",
    "    for N in [20]:\n",
    "        \n",
    "        OAF = []\n",
    "        \n",
    "        oas , _ , _ = genOA(N,d)\n",
    "        \n",
    "        for oa in oas:\n",
    "            OAF.append(oa)\n",
    "            for _ in range(NResamples):\n",
    "                OAF.append(oa.randSwitchIsomorphism(2, canonical=True))\n",
    "                \n",
    "        filts = [arr.to_pmf(normalize=True).compute_filtration() for arr in OAF ]\n",
    "        filts = np.column_stack(filts)\n",
    "        \n",
    "        \n",
    "        dist = BotDistances(filts , d)\n",
    "\n",
    "        \n",
    "        AvgInBot , AvgOutBot = AvgDistances(dist, NSwitches+1)\n",
    "        \n",
    "        resultBot.append( ( \"( {} , {} )\".format(N,d) , AvgInBot , AvgOutBot ) )"
   ]
  },
  {
   "cell_type": "code",
   "execution_count": null,
   "id": "015f1335-5564-4679-b76c-66eaaffe0f44",
   "metadata": {},
   "outputs": [],
   "source": []
  },
  {
   "cell_type": "code",
   "execution_count": 11,
   "id": "a67e02a4-109b-434d-b8c6-96317d605fa4",
   "metadata": {},
   "outputs": [],
   "source": [
    "from persistence.distances import wasserstein2DNoDiag, wasserstein1D"
   ]
  },
  {
   "cell_type": "code",
   "execution_count": 12,
   "id": "543064ee-a6b7-47b5-8c7f-385696240d89",
   "metadata": {},
   "outputs": [],
   "source": [
    "vals1 = [3, 0, 0, 3, 0, 0, 0, 0, 0, 0, 0, 0, 2, 1, 1, 2, 0, 0, 0, 0, 1, 2, 2, 1, 0, 3, 3, 0, 0, 0, 0, 0]\n",
    "vals2 = [3, 0, 0, 2, 0, 0, 1, 0, 0, 0, 0, 1, 0, 3, 2, 0, 0, 1, 0, 0, 2, 0, 0, 3, 0, 2, 3, 0, 1, 0, 0, 0]\n",
    "\n",
    "vals1 = [2, 2, 0, 0, 0, 0, 2, 0, 0, 0, 1, 1, 1, 1, 0, 2, 0, 0, 1, 1, 0, 2, 1, 1, 1, 1, 1, 1, 2, 0, 0, 0]\n",
    "vals2 = [2, 1, 0, 1, 1, 0, 1, 0, 0, 1, 1, 0, 0, 1, 1, 2, 0, 0, 0, 2, 0, 2, 2, 0, 2, 0, 1, 1, 1, 1, 0, 0]\n",
    "\n",
    "p1 = PMF(5, vals1, one=False)\n",
    "p2 = PMF(5, vals2, one=False)"
   ]
  },
  {
   "cell_type": "code",
   "execution_count": 13,
   "id": "476197a2-9b44-4bca-864b-a64e2a14b219",
   "metadata": {},
   "outputs": [
    {
     "data": {
      "text/plain": [
       "(32, 2)"
      ]
     },
     "execution_count": 13,
     "metadata": {},
     "output_type": "execute_result"
    }
   ],
   "source": [
    "f1 = p1.normalize().compute_filtration()\n",
    "f2 = p2.normalize().compute_filtration()\n",
    "\n",
    "filtrations = np.column_stack([f1,f2])\n",
    "filtrations.shape"
   ]
  },
  {
   "cell_type": "code",
   "execution_count": 14,
   "id": "6a6cf065-bac4-4df7-90f4-c7812ab6527c",
   "metadata": {},
   "outputs": [
    {
     "data": {
      "text/plain": [
       "0.0"
      ]
     },
     "execution_count": 14,
     "metadata": {},
     "output_type": "execute_result"
    }
   ],
   "source": [
    "wasserstein1D(p1.values,p2.values)"
   ]
  },
  {
   "cell_type": "code",
   "execution_count": 15,
   "id": "f04c82b0-9cf2-455c-a68c-197c321fa0ea",
   "metadata": {},
   "outputs": [
    {
     "data": {
      "text/plain": [
       "1.1102230246251565e-16"
      ]
     },
     "execution_count": 15,
     "metadata": {},
     "output_type": "execute_result"
    }
   ],
   "source": [
    "wasserstein1D(f1,f2)"
   ]
  },
  {
   "cell_type": "code",
   "execution_count": 10,
   "id": "d035178d-c20b-4fac-891f-22798c8712a4",
   "metadata": {},
   "outputs": [],
   "source": [
    "from persistence.distances import wasserstein2DNoDiag, wasserstein1D"
   ]
  },
  {
   "cell_type": "code",
   "execution_count": 16,
   "id": "d067a932-3228-48fe-8aec-0313a382d213",
   "metadata": {},
   "outputs": [],
   "source": [
    "pd1 = persistencePairs(f1,5)\n",
    "pd1 = pd1[1]\n",
    "pd2 = persistencePairs(f2,5)\n",
    "pd2 = pd2[1]"
   ]
  },
  {
   "cell_type": "code",
   "execution_count": 17,
   "id": "d9453658-ce7e-4e14-a97a-4711631c3ca2",
   "metadata": {},
   "outputs": [
    {
     "data": {
      "text/plain": [
       "2.1073424255447017e-08"
      ]
     },
     "execution_count": 17,
     "metadata": {},
     "output_type": "execute_result"
    }
   ],
   "source": [
    "wasserstein2DNoDiag(pd1, pd2)"
   ]
  },
  {
   "cell_type": "code",
   "execution_count": 18,
   "id": "f17cfc7b-dade-4aa8-a1f9-ea3f9aea79cc",
   "metadata": {},
   "outputs": [
    {
     "data": {
      "text/plain": [
       "[[0.5, 0.75],\n",
       " [0.5, 0.75],\n",
       " [0.5, 0.75],\n",
       " [0.5, 0.75],\n",
       " [0.75, 0.8333333333333334],\n",
       " [0.75, 0.875],\n",
       " [0.75, 0.875],\n",
       " [0.75, 0.875],\n",
       " [0.75, 0.875],\n",
       " [0.9166666666666666, 0.9166666666666666],\n",
       " [0.75, 0.9166666666666666],\n",
       " [0.9166666666666666, 0.9583333333333334],\n",
       " [0.9166666666666666, 0.9583333333333334],\n",
       " [0.9166666666666666, 1.0],\n",
       " [1.0, 1.0],\n",
       " [0.0, inf],\n",
       " [0.5, inf]]"
      ]
     },
     "execution_count": 18,
     "metadata": {},
     "output_type": "execute_result"
    }
   ],
   "source": [
    "pd1"
   ]
  },
  {
   "cell_type": "code",
   "execution_count": 19,
   "id": "da183d1c-e555-4190-81bf-84499535a114",
   "metadata": {},
   "outputs": [
    {
     "data": {
      "text/plain": [
       "[[0.5, 0.75],\n",
       " [0.5, 0.75],\n",
       " [0.5, 0.75],\n",
       " [0.5, 0.75],\n",
       " [0.75, 0.8333333333333334],\n",
       " [0.75, 0.875],\n",
       " [0.75, 0.875],\n",
       " [0.75, 0.875],\n",
       " [0.75, 0.875],\n",
       " [0.9166666666666666, 0.9166666666666666],\n",
       " [0.75, 0.9166666666666666],\n",
       " [0.9166666666666666, 0.9583333333333334],\n",
       " [0.9166666666666666, 0.9583333333333334],\n",
       " [0.9166666666666666, 1.0],\n",
       " [1.0, 1.0],\n",
       " [1.1102230246251565e-16, inf],\n",
       " [0.5, inf]]"
      ]
     },
     "execution_count": 19,
     "metadata": {},
     "output_type": "execute_result"
    }
   ],
   "source": [
    "pd2"
   ]
  },
  {
   "cell_type": "code",
   "execution_count": 20,
   "id": "16645da1-c114-42ad-8483-4dbb694753be",
   "metadata": {},
   "outputs": [],
   "source": [
    "from statistics.OAIso import allSwitchIsomorphisms"
   ]
  },
  {
   "cell_type": "code",
   "execution_count": 21,
   "id": "846fa948-af5d-4728-881c-d849098ad595",
   "metadata": {},
   "outputs": [],
   "source": [
    "perms = allSwitchIsomorphisms(5)"
   ]
  },
  {
   "cell_type": "code",
   "execution_count": 22,
   "id": "dd68751e-b6ff-4889-aabd-22bd5562a1ca",
   "metadata": {},
   "outputs": [
    {
     "data": {
      "text/plain": [
       "(32, 32)"
      ]
     },
     "execution_count": 22,
     "metadata": {},
     "output_type": "execute_result"
    }
   ],
   "source": [
    "perms.shape"
   ]
  },
  {
   "cell_type": "code",
   "execution_count": 23,
   "id": "20b12417-f0ff-4942-af55-af43f528f2b7",
   "metadata": {},
   "outputs": [
    {
     "data": {
      "text/plain": [
       "array([[13,  6, 29, ..., 27, 31, 18],\n",
       "       [12,  7, 28, ..., 26, 30, 19],\n",
       "       [15,  4, 31, ..., 25, 29, 16],\n",
       "       ...,\n",
       "       [16, 27,  0, ...,  6,  2, 15],\n",
       "       [19, 24,  3, ...,  5,  1, 12],\n",
       "       [18, 25,  2, ...,  4,  0, 13]])"
      ]
     },
     "execution_count": 23,
     "metadata": {},
     "output_type": "execute_result"
    }
   ],
   "source": [
    "perms"
   ]
  },
  {
   "cell_type": "code",
   "execution_count": 29,
   "id": "d2c58919-5180-43b3-91ee-5917cfe8ff3f",
   "metadata": {},
   "outputs": [],
   "source": [
    "oas , _ , _ = genOA(24,5)\n"
   ]
  },
  {
   "cell_type": "code",
   "execution_count": 42,
   "id": "26729805-246e-4784-a338-e294babb0e4f",
   "metadata": {},
   "outputs": [
    {
     "data": {
      "text/plain": [
       "array([[2],\n",
       "       [1],\n",
       "       [1],\n",
       "       [0],\n",
       "       [0],\n",
       "       [1],\n",
       "       [1],\n",
       "       [0],\n",
       "       [0],\n",
       "       [1],\n",
       "       [0],\n",
       "       [1],\n",
       "       [1],\n",
       "       [0],\n",
       "       [1],\n",
       "       [2],\n",
       "       [0],\n",
       "       [0],\n",
       "       [1],\n",
       "       [1],\n",
       "       [1],\n",
       "       [1],\n",
       "       [0],\n",
       "       [2],\n",
       "       [0],\n",
       "       [2],\n",
       "       [2],\n",
       "       [0],\n",
       "       [2],\n",
       "       [0],\n",
       "       [0],\n",
       "       [0]])"
      ]
     },
     "execution_count": 42,
     "metadata": {},
     "output_type": "execute_result"
    }
   ],
   "source": [
    "p = oas[40].to_pmf()\n",
    "p.values"
   ]
  },
  {
   "cell_type": "code",
   "execution_count": 62,
   "id": "525da4c5-e34f-4644-b989-b0b9053c0db1",
   "metadata": {},
   "outputs": [],
   "source": [
    "import pandas as pd\n",
    "\n",
    "df = pd.DataFrame(perms)"
   ]
  },
  {
   "cell_type": "code",
   "execution_count": 76,
   "id": "8932d9b8-1331-4b90-9981-c9ab40589030",
   "metadata": {},
   "outputs": [],
   "source": [
    "df.to_csv('SwitchIsoPermsD=5.csv')"
   ]
  },
  {
   "cell_type": "code",
   "execution_count": 80,
   "id": "62741fc2-7929-432f-b7fe-ce0e92affdec",
   "metadata": {},
   "outputs": [
    {
     "data": {
      "text/plain": [
       "[False,\n",
       " False,\n",
       " False,\n",
       " False,\n",
       " False,\n",
       " False,\n",
       " False,\n",
       " False,\n",
       " False,\n",
       " False,\n",
       " False,\n",
       " False,\n",
       " False,\n",
       " False,\n",
       " False,\n",
       " False,\n",
       " False,\n",
       " False,\n",
       " False,\n",
       " False,\n",
       " False,\n",
       " False,\n",
       " False,\n",
       " False,\n",
       " False,\n",
       " False,\n",
       " False,\n",
       " False,\n",
       " False,\n",
       " False,\n",
       " False,\n",
       " False]"
      ]
     },
     "execution_count": 80,
     "metadata": {},
     "output_type": "execute_result"
    }
   ],
   "source": [
    "[any(np.array_equal(row, col) for col in perms.T) for row in perms]"
   ]
  },
  {
   "cell_type": "code",
   "execution_count": 144,
   "id": "824ca88c-ef65-4761-8b35-8cac2c06625a",
   "metadata": {},
   "outputs": [
    {
     "name": "stdout",
     "output_type": "stream",
     "text": [
      "Generating OAs\n"
     ]
    }
   ],
   "source": [
    "N = 24\n",
    "d = 5\n",
    "perms = allSwitchIsomorphisms(d)\n",
    "\n",
    "# generate the fathers\n",
    "print('Generating OAs', flush=True)\n",
    "\n",
    "oas , _ , _ = genOA(N,d)"
   ]
  },
  {
   "cell_type": "code",
   "execution_count": 145,
   "id": "6910ee32-05f6-4c79-9957-220a7af52630",
   "metadata": {},
   "outputs": [],
   "source": [
    "oas1 = oas[27]\n",
    "oas2 = oas[40]"
   ]
  },
  {
   "cell_type": "code",
   "execution_count": 146,
   "id": "bd751596-0aea-4d68-9d52-5cefb887f151",
   "metadata": {},
   "outputs": [],
   "source": [
    "p1 = oas1.to_pmf().normalize()\n",
    "p2 = oas2.to_pmf().normalize()\n"
   ]
  },
  {
   "cell_type": "code",
   "execution_count": 147,
   "id": "7030e4a1-4335-4927-9f2d-03e6a395e46b",
   "metadata": {},
   "outputs": [],
   "source": [
    "candidates = []\n",
    "candidates.append(p2)\n",
    "\n",
    "for i in range(perms.shape[1]):\n",
    "\n",
    "    candidates.append( PMF(5, p2.values[ perms[:,i] ]) )"
   ]
  },
  {
   "cell_type": "code",
   "execution_count": 148,
   "id": "8d3cb859-828a-4fca-ac0d-b6cbcc1dd07b",
   "metadata": {},
   "outputs": [],
   "source": [
    "EPS = 1E-7\n",
    "\n",
    "def testIso( p1 , p2 ):\n",
    "    \n",
    "        #print('p1 = ')\n",
    "        #print(p1)\n",
    "        Was1P = wasserstein1D( p1 , p2 )\n",
    "        \n",
    "        Was1F = None\n",
    "        \n",
    "        Was2D = None\n",
    "        \n",
    "        if Was1P > EPS:\n",
    "            \n",
    "            #print('1DP')\n",
    "            #print(p2)\n",
    "            \n",
    "            return False\n",
    "            \n",
    "        # the Loop!\n",
    "        \n",
    "        Pmf1 = PMF(d,p1) # pmf object\n",
    "        filt1 = Pmf1.compute_filtration() #compute filtration\n",
    "        \n",
    "        Pmf2 = PMF(d,p2)\n",
    "        filt2 = Pmf2.compute_filtration()\n",
    "\n",
    "        Was1F = wasserstein1D( filt1 , filt2 )\n",
    "\n",
    "        if Was1F > EPS: # filtration distance is positive, no need to perform 2D\n",
    "                #print('1DFilt > 0', Was1F)\n",
    "             \n",
    "            #print(p2)\n",
    "            \n",
    "            return False\n",
    "        \n",
    "        pp1 = persistencePairs(filt1, d) # compute pairs\n",
    "        pp1 = pp1[1] # only value pairs, not the integers\n",
    "\n",
    "            \n",
    "        pp2 = persistencePairs(filt2, d) # compute pairs\n",
    "        pp2 = pp2[1] # only value pairs, not the integers\n",
    "\n",
    "        Was2D = wasserstein2DNoDiag( pp1, pp2 )\n",
    "\n",
    "        #return Was1P, Was1F, Was2D\n",
    "        if Was2D <= EPS:\n",
    "\n",
    "            #print('Zero in d_2 (PD)')\n",
    "            return True\n",
    "            \n",
    "            #print('d_1 (moments) = 0, d_2 > 0')\n",
    "            #print('Pmf1 = ', Pmf1.values)\n",
    "            #print('Pmf2 = ', Pmf2.values)\n",
    "            \n",
    "                \n",
    "        # if you get to the end of the loop, return false   \n",
    "        return False\n",
    "            "
   ]
  },
  {
   "cell_type": "code",
   "execution_count": 149,
   "id": "6a6c1945-9ebe-421e-aad5-ce03ea2e8306",
   "metadata": {},
   "outputs": [],
   "source": [
    "arr = p1.values\n",
    "\n",
    "candidates = [x.values for x in candidates]"
   ]
  },
  {
   "cell_type": "code",
   "execution_count": 154,
   "id": "0d3d6d81-03dd-4628-a671-66c1988c6774",
   "metadata": {},
   "outputs": [],
   "source": [
    "res = [testIso( arr, x ) for x in candidates]"
   ]
  },
  {
   "cell_type": "code",
   "execution_count": 155,
   "id": "d9558ffb-fab1-48cc-a68b-848c0b7b89c3",
   "metadata": {},
   "outputs": [
    {
     "data": {
      "text/plain": [
       "[False,\n",
       " False,\n",
       " False,\n",
       " False,\n",
       " False,\n",
       " False,\n",
       " False,\n",
       " False,\n",
       " False,\n",
       " False,\n",
       " True,\n",
       " False,\n",
       " True,\n",
       " False,\n",
       " False,\n",
       " False,\n",
       " False,\n",
       " False,\n",
       " False,\n",
       " False,\n",
       " False,\n",
       " False,\n",
       " False,\n",
       " False,\n",
       " False,\n",
       " False,\n",
       " False,\n",
       " False,\n",
       " False,\n",
       " False,\n",
       " False,\n",
       " False,\n",
       " False]"
      ]
     },
     "execution_count": 155,
     "metadata": {},
     "output_type": "execute_result"
    }
   ],
   "source": [
    "res"
   ]
  },
  {
   "cell_type": "code",
   "execution_count": 151,
   "id": "8836bba0-59f2-44eb-bc3b-f90be632a1fd",
   "metadata": {},
   "outputs": [
    {
     "data": {
      "text/plain": [
       "array([[2.],\n",
       "       [2.],\n",
       "       [0.],\n",
       "       [0.],\n",
       "       [0.],\n",
       "       [0.],\n",
       "       [2.],\n",
       "       [0.],\n",
       "       [0.],\n",
       "       [0.],\n",
       "       [1.],\n",
       "       [1.],\n",
       "       [1.],\n",
       "       [1.],\n",
       "       [0.],\n",
       "       [2.],\n",
       "       [0.],\n",
       "       [0.],\n",
       "       [1.],\n",
       "       [1.],\n",
       "       [0.],\n",
       "       [2.],\n",
       "       [1.],\n",
       "       [1.],\n",
       "       [1.],\n",
       "       [1.],\n",
       "       [1.],\n",
       "       [1.],\n",
       "       [2.],\n",
       "       [0.],\n",
       "       [0.],\n",
       "       [0.]])"
      ]
     },
     "execution_count": 151,
     "metadata": {},
     "output_type": "execute_result"
    }
   ],
   "source": [
    "arr*24"
   ]
  },
  {
   "cell_type": "code",
   "execution_count": 152,
   "id": "5f04b262-47fa-4266-80f6-509b00ef5ec1",
   "metadata": {},
   "outputs": [
    {
     "data": {
      "text/plain": [
       "array([[2.],\n",
       "       [1.],\n",
       "       [0.],\n",
       "       [1.],\n",
       "       [1.],\n",
       "       [0.],\n",
       "       [1.],\n",
       "       [0.],\n",
       "       [0.],\n",
       "       [1.],\n",
       "       [1.],\n",
       "       [0.],\n",
       "       [0.],\n",
       "       [1.],\n",
       "       [1.],\n",
       "       [2.],\n",
       "       [0.],\n",
       "       [0.],\n",
       "       [0.],\n",
       "       [2.],\n",
       "       [0.],\n",
       "       [2.],\n",
       "       [2.],\n",
       "       [0.],\n",
       "       [2.],\n",
       "       [0.],\n",
       "       [1.],\n",
       "       [1.],\n",
       "       [1.],\n",
       "       [1.],\n",
       "       [0.],\n",
       "       [0.]])"
      ]
     },
     "execution_count": 152,
     "metadata": {},
     "output_type": "execute_result"
    }
   ],
   "source": [
    "24*candidates[10]"
   ]
  },
  {
   "cell_type": "code",
   "execution_count": 153,
   "id": "b51f42ca-dc46-4f9e-9e56-a576f80b5267",
   "metadata": {},
   "outputs": [
    {
     "data": {
      "text/plain": [
       "True"
      ]
     },
     "execution_count": 153,
     "metadata": {},
     "output_type": "execute_result"
    }
   ],
   "source": [
    "testIso(arr, candidates[10])"
   ]
  },
  {
   "cell_type": "code",
   "execution_count": null,
   "id": "f8cb4896-437c-4641-9254-cd59c4ed4367",
   "metadata": {},
   "outputs": [],
   "source": []
  },
  {
   "cell_type": "code",
   "execution_count": null,
   "id": "ac7a6a5b-9148-47a8-ac01-d9367803ea9b",
   "metadata": {},
   "outputs": [],
   "source": []
  }
 ],
 "metadata": {
  "kernelspec": {
   "display_name": "Python 3 (ipykernel)",
   "language": "python",
   "name": "python3"
  },
  "language_info": {
   "codemirror_mode": {
    "name": "ipython",
    "version": 3
   },
   "file_extension": ".py",
   "mimetype": "text/x-python",
   "name": "python",
   "nbconvert_exporter": "python",
   "pygments_lexer": "ipython3",
   "version": "3.9.13"
  }
 },
 "nbformat": 4,
 "nbformat_minor": 5
}
